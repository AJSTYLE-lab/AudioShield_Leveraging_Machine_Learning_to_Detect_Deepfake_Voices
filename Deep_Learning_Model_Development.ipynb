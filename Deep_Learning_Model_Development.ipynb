{
  "nbformat": 4,
  "nbformat_minor": 0,
  "metadata": {
    "colab": {
      "provenance": []
    },
    "kernelspec": {
      "name": "python3",
      "display_name": "Python 3"
    },
    "language_info": {
      "name": "python"
    },
    "widgets": {
      "application/vnd.jupyter.widget-state+json": {
        "81587aef91764684a8fe882945aa6272": {
          "model_module": "@jupyter-widgets/output",
          "model_name": "OutputModel",
          "model_module_version": "1.0.0",
          "state": {
            "_dom_classes": [],
            "_model_module": "@jupyter-widgets/output",
            "_model_module_version": "1.0.0",
            "_model_name": "OutputModel",
            "_view_count": null,
            "_view_module": "@jupyter-widgets/output",
            "_view_module_version": "1.0.0",
            "_view_name": "OutputView",
            "layout": "IPY_MODEL_9e265a2f4f3e44d7aef736ed5b485259",
            "msg_id": "",
            "outputs": [
              {
                "output_type": "display_data",
                "data": {
                  "text/plain": "\u001b[32m⠋\u001b[0m Waiting for authorization\n",
                  "text/html": "<pre style=\"white-space:pre;overflow-x:auto;line-height:normal;font-family:Menlo,'DejaVu Sans Mono',consolas,'Courier New',monospace\"><span style=\"color: #008000; text-decoration-color: #008000\">⠋</span> Waiting for authorization\n</pre>\n"
                },
                "metadata": {}
              }
            ]
          }
        },
        "9e265a2f4f3e44d7aef736ed5b485259": {
          "model_module": "@jupyter-widgets/base",
          "model_name": "LayoutModel",
          "model_module_version": "1.2.0",
          "state": {
            "_model_module": "@jupyter-widgets/base",
            "_model_module_version": "1.2.0",
            "_model_name": "LayoutModel",
            "_view_count": null,
            "_view_module": "@jupyter-widgets/base",
            "_view_module_version": "1.2.0",
            "_view_name": "LayoutView",
            "align_content": null,
            "align_items": null,
            "align_self": null,
            "border": null,
            "bottom": null,
            "display": null,
            "flex": null,
            "flex_flow": null,
            "grid_area": null,
            "grid_auto_columns": null,
            "grid_auto_flow": null,
            "grid_auto_rows": null,
            "grid_column": null,
            "grid_gap": null,
            "grid_row": null,
            "grid_template_areas": null,
            "grid_template_columns": null,
            "grid_template_rows": null,
            "height": null,
            "justify_content": null,
            "justify_items": null,
            "left": null,
            "margin": null,
            "max_height": null,
            "max_width": null,
            "min_height": null,
            "min_width": null,
            "object_fit": null,
            "object_position": null,
            "order": null,
            "overflow": null,
            "overflow_x": null,
            "overflow_y": null,
            "padding": null,
            "right": null,
            "top": null,
            "visibility": null,
            "width": null
          }
        }
      }
    }
  },
  "cells": [
    {
      "cell_type": "markdown",
      "source": [
        "<strong>Developer Name:</strong> Muhammad Ahmed Javed\n",
        "\n",
        "## 🔗 Links\n",
        "[![portfolio](https://img.shields.io/badge/my_portfolio-000?style=for-the-badge&logo=ko-fi&logoColor=white)](http://datascienceportfol.io/Muhammad_Ahmed_Javed)\n",
        "\n",
        "[![linkedin](https://img.shields.io/badge/linkedin-0A66C2?style=for-the-badge&logo=linkedin&logoColor=white)](http://www.linkedin.com/in/%20muhammad-ahmed-javedb33900247)\n",
        "\n",
        "\n",
        "---\n",
        "\n",
        "### Navigation\n",
        "\n",
        "\n",
        "- [1. Setup & Libraries](#setup)\n",
        "- [2. Load Dataset](#load-dataset)\n",
        "- [3. Data Preprocessing](#data-preprocessing)\n",
        "- [4. Deep Learning Models Training](#model-training)\n",
        "- [5. Models Evaluation](#model-evaluation)\n",
        "\n",
        "---\n",
        "\n",
        "<a name=\"setup\"></a>\n",
        "## 1. Setup & Libraries\n",
        "\n",
        "---"
      ],
      "metadata": {
        "id": "rwwXQ7gIG86e"
      }
    },
    {
      "cell_type": "code",
      "source": [
        "\n",
        "!pip install dagshub streamlit pydub pyngrok"
      ],
      "metadata": {
        "collapsed": true,
        "id": "PkAO0BydHArA",
        "colab": {
          "base_uri": "https://localhost:8080/"
        },
        "outputId": "55231e3e-27e1-46a8-d4a3-f32079f80ce3"
      },
      "execution_count": null,
      "outputs": [
        {
          "output_type": "stream",
          "name": "stdout",
          "text": [
            "Collecting dagshub\n",
            "  Downloading dagshub-0.3.29-py3-none-any.whl (235 kB)\n",
            "\u001b[2K     \u001b[90m━━━━━━━━━━━━━━━━━━━━━━━━━━━━━━━━━━━━━━━━\u001b[0m \u001b[32m235.6/235.6 kB\u001b[0m \u001b[31m4.5 MB/s\u001b[0m eta \u001b[36m0:00:00\u001b[0m\n",
            "\u001b[?25hCollecting streamlit\n",
            "  Downloading streamlit-1.36.0-py2.py3-none-any.whl (8.6 MB)\n",
            "\u001b[2K     \u001b[90m━━━━━━━━━━━━━━━━━━━━━━━━━━━━━━━━━━━━━━━━\u001b[0m \u001b[32m8.6/8.6 MB\u001b[0m \u001b[31m48.5 MB/s\u001b[0m eta \u001b[36m0:00:00\u001b[0m\n",
            "\u001b[?25hCollecting pydub\n",
            "  Downloading pydub-0.25.1-py2.py3-none-any.whl (32 kB)\n",
            "Collecting pyngrok\n",
            "  Downloading pyngrok-7.1.6-py3-none-any.whl (22 kB)\n",
            "Requirement already satisfied: PyYAML>=5 in /usr/local/lib/python3.10/dist-packages (from dagshub) (6.0.1)\n",
            "Collecting fusepy>=3 (from dagshub)\n",
            "  Downloading fusepy-3.0.1.tar.gz (11 kB)\n",
            "  Preparing metadata (setup.py) ... \u001b[?25l\u001b[?25hdone\n",
            "Collecting appdirs>=1.4.4 (from dagshub)\n",
            "  Downloading appdirs-1.4.4-py2.py3-none-any.whl (9.6 kB)\n",
            "Requirement already satisfied: click>=8.0.4 in /usr/local/lib/python3.10/dist-packages (from dagshub) (8.1.7)\n",
            "Collecting httpx~=0.23.0 (from dagshub)\n",
            "  Downloading httpx-0.23.3-py3-none-any.whl (71 kB)\n",
            "\u001b[2K     \u001b[90m━━━━━━━━━━━━━━━━━━━━━━━━━━━━━━━━━━━━━━━━\u001b[0m \u001b[32m71.5/71.5 kB\u001b[0m \u001b[31m7.1 MB/s\u001b[0m eta \u001b[36m0:00:00\u001b[0m\n",
            "\u001b[?25hCollecting GitPython>=3.1.29 (from dagshub)\n",
            "  Downloading GitPython-3.1.43-py3-none-any.whl (207 kB)\n",
            "\u001b[2K     \u001b[90m━━━━━━━━━━━━━━━━━━━━━━━━━━━━━━━━━━━━━━━━\u001b[0m \u001b[32m207.3/207.3 kB\u001b[0m \u001b[31m20.8 MB/s\u001b[0m eta \u001b[36m0:00:00\u001b[0m\n",
            "\u001b[?25hCollecting rich~=13.1.0 (from dagshub)\n",
            "  Downloading rich-13.1.0-py3-none-any.whl (238 kB)\n",
            "\u001b[2K     \u001b[90m━━━━━━━━━━━━━━━━━━━━━━━━━━━━━━━━━━━━━━━━\u001b[0m \u001b[32m238.4/238.4 kB\u001b[0m \u001b[31m22.8 MB/s\u001b[0m eta \u001b[36m0:00:00\u001b[0m\n",
            "\u001b[?25hCollecting dacite~=1.6.0 (from dagshub)\n",
            "  Downloading dacite-1.6.0-py3-none-any.whl (12 kB)\n",
            "Collecting tenacity~=8.2.2 (from dagshub)\n",
            "  Downloading tenacity-8.2.3-py3-none-any.whl (24 kB)\n",
            "Collecting gql[requests] (from dagshub)\n",
            "  Downloading gql-3.5.0-py2.py3-none-any.whl (74 kB)\n",
            "\u001b[2K     \u001b[90m━━━━━━━━━━━━━━━━━━━━━━━━━━━━━━━━━━━━━━━━\u001b[0m \u001b[32m74.0/74.0 kB\u001b[0m \u001b[31m8.4 MB/s\u001b[0m eta \u001b[36m0:00:00\u001b[0m\n",
            "\u001b[?25hCollecting dataclasses-json (from dagshub)\n",
            "  Downloading dataclasses_json-0.6.7-py3-none-any.whl (28 kB)\n",
            "Requirement already satisfied: pandas in /usr/local/lib/python3.10/dist-packages (from dagshub) (2.0.3)\n",
            "Collecting treelib~=1.6.4 (from dagshub)\n",
            "  Downloading treelib-1.6.4-py3-none-any.whl (18 kB)\n",
            "Collecting pathvalidate~=3.0.0 (from dagshub)\n",
            "  Downloading pathvalidate-3.0.0-py3-none-any.whl (21 kB)\n",
            "Requirement already satisfied: python-dateutil in /usr/local/lib/python3.10/dist-packages (from dagshub) (2.8.2)\n",
            "Collecting boto3 (from dagshub)\n",
            "  Downloading boto3-1.34.142-py3-none-any.whl (139 kB)\n",
            "\u001b[2K     \u001b[90m━━━━━━━━━━━━━━━━━━━━━━━━━━━━━━━━━━━━━━━━\u001b[0m \u001b[32m139.2/139.2 kB\u001b[0m \u001b[31m15.3 MB/s\u001b[0m eta \u001b[36m0:00:00\u001b[0m\n",
            "\u001b[?25hRequirement already satisfied: altair<6,>=4.0 in /usr/local/lib/python3.10/dist-packages (from streamlit) (4.2.2)\n",
            "Requirement already satisfied: blinker<2,>=1.0.0 in /usr/lib/python3/dist-packages (from streamlit) (1.4)\n",
            "Requirement already satisfied: cachetools<6,>=4.0 in /usr/local/lib/python3.10/dist-packages (from streamlit) (5.3.3)\n",
            "Requirement already satisfied: numpy<3,>=1.20 in /usr/local/lib/python3.10/dist-packages (from streamlit) (1.25.2)\n",
            "Requirement already satisfied: packaging<25,>=20 in /usr/local/lib/python3.10/dist-packages (from streamlit) (24.1)\n",
            "Requirement already satisfied: pillow<11,>=7.1.0 in /usr/local/lib/python3.10/dist-packages (from streamlit) (9.4.0)\n",
            "Requirement already satisfied: protobuf<6,>=3.20 in /usr/local/lib/python3.10/dist-packages (from streamlit) (3.20.3)\n",
            "Requirement already satisfied: pyarrow>=7.0 in /usr/local/lib/python3.10/dist-packages (from streamlit) (14.0.2)\n",
            "Requirement already satisfied: requests<3,>=2.27 in /usr/local/lib/python3.10/dist-packages (from streamlit) (2.31.0)\n",
            "Requirement already satisfied: toml<2,>=0.10.1 in /usr/local/lib/python3.10/dist-packages (from streamlit) (0.10.2)\n",
            "Requirement already satisfied: typing-extensions<5,>=4.3.0 in /usr/local/lib/python3.10/dist-packages (from streamlit) (4.12.2)\n",
            "Collecting pydeck<1,>=0.8.0b4 (from streamlit)\n",
            "  Downloading pydeck-0.9.1-py2.py3-none-any.whl (6.9 MB)\n",
            "\u001b[2K     \u001b[90m━━━━━━━━━━━━━━━━━━━━━━━━━━━━━━━━━━━━━━━━\u001b[0m \u001b[32m6.9/6.9 MB\u001b[0m \u001b[31m40.0 MB/s\u001b[0m eta \u001b[36m0:00:00\u001b[0m\n",
            "\u001b[?25hRequirement already satisfied: tornado<7,>=6.0.3 in /usr/local/lib/python3.10/dist-packages (from streamlit) (6.3.3)\n",
            "Collecting watchdog<5,>=2.1.5 (from streamlit)\n",
            "  Downloading watchdog-4.0.1-py3-none-manylinux2014_x86_64.whl (83 kB)\n",
            "\u001b[2K     \u001b[90m━━━━━━━━━━━━━━━━━━━━━━━━━━━━━━━━━━━━━━━━\u001b[0m \u001b[32m83.0/83.0 kB\u001b[0m \u001b[31m9.3 MB/s\u001b[0m eta \u001b[36m0:00:00\u001b[0m\n",
            "\u001b[?25hRequirement already satisfied: entrypoints in /usr/local/lib/python3.10/dist-packages (from altair<6,>=4.0->streamlit) (0.4)\n",
            "Requirement already satisfied: jinja2 in /usr/local/lib/python3.10/dist-packages (from altair<6,>=4.0->streamlit) (3.1.4)\n",
            "Requirement already satisfied: jsonschema>=3.0 in /usr/local/lib/python3.10/dist-packages (from altair<6,>=4.0->streamlit) (4.19.2)\n",
            "Requirement already satisfied: toolz in /usr/local/lib/python3.10/dist-packages (from altair<6,>=4.0->streamlit) (0.12.1)\n",
            "Collecting gitdb<5,>=4.0.1 (from GitPython>=3.1.29->dagshub)\n",
            "  Downloading gitdb-4.0.11-py3-none-any.whl (62 kB)\n",
            "\u001b[2K     \u001b[90m━━━━━━━━━━━━━━━━━━━━━━━━━━━━━━━━━━━━━━━━\u001b[0m \u001b[32m62.7/62.7 kB\u001b[0m \u001b[31m5.8 MB/s\u001b[0m eta \u001b[36m0:00:00\u001b[0m\n",
            "\u001b[?25hRequirement already satisfied: certifi in /usr/local/lib/python3.10/dist-packages (from httpx~=0.23.0->dagshub) (2024.6.2)\n",
            "Collecting httpcore<0.17.0,>=0.15.0 (from httpx~=0.23.0->dagshub)\n",
            "  Downloading httpcore-0.16.3-py3-none-any.whl (69 kB)\n",
            "\u001b[2K     \u001b[90m━━━━━━━━━━━━━━━━━━━━━━━━━━━━━━━━━━━━━━━━\u001b[0m \u001b[32m69.6/69.6 kB\u001b[0m \u001b[31m6.2 MB/s\u001b[0m eta \u001b[36m0:00:00\u001b[0m\n",
            "\u001b[?25hCollecting rfc3986[idna2008]<2,>=1.3 (from httpx~=0.23.0->dagshub)\n",
            "  Downloading rfc3986-1.5.0-py2.py3-none-any.whl (31 kB)\n",
            "Requirement already satisfied: sniffio in /usr/local/lib/python3.10/dist-packages (from httpx~=0.23.0->dagshub) (1.3.1)\n",
            "Requirement already satisfied: pytz>=2020.1 in /usr/local/lib/python3.10/dist-packages (from pandas->dagshub) (2023.4)\n",
            "Requirement already satisfied: tzdata>=2022.1 in /usr/local/lib/python3.10/dist-packages (from pandas->dagshub) (2024.1)\n",
            "Requirement already satisfied: six>=1.5 in /usr/local/lib/python3.10/dist-packages (from python-dateutil->dagshub) (1.16.0)\n",
            "Requirement already satisfied: charset-normalizer<4,>=2 in /usr/local/lib/python3.10/dist-packages (from requests<3,>=2.27->streamlit) (3.3.2)\n",
            "Requirement already satisfied: idna<4,>=2.5 in /usr/local/lib/python3.10/dist-packages (from requests<3,>=2.27->streamlit) (3.7)\n",
            "Requirement already satisfied: urllib3<3,>=1.21.1 in /usr/local/lib/python3.10/dist-packages (from requests<3,>=2.27->streamlit) (2.0.7)\n",
            "Collecting commonmark<0.10.0,>=0.9.0 (from rich~=13.1.0->dagshub)\n",
            "  Downloading commonmark-0.9.1-py2.py3-none-any.whl (51 kB)\n",
            "\u001b[2K     \u001b[90m━━━━━━━━━━━━━━━━━━━━━━━━━━━━━━━━━━━━━━━━\u001b[0m \u001b[32m51.1/51.1 kB\u001b[0m \u001b[31m4.4 MB/s\u001b[0m eta \u001b[36m0:00:00\u001b[0m\n",
            "\u001b[?25hRequirement already satisfied: pygments<3.0.0,>=2.6.0 in /usr/local/lib/python3.10/dist-packages (from rich~=13.1.0->dagshub) (2.16.1)\n",
            "Collecting botocore<1.35.0,>=1.34.142 (from boto3->dagshub)\n",
            "  Downloading botocore-1.34.142-py3-none-any.whl (12.4 MB)\n",
            "\u001b[2K     \u001b[90m━━━━━━━━━━━━━━━━━━━━━━━━━━━━━━━━━━━━━━━━\u001b[0m \u001b[32m12.4/12.4 MB\u001b[0m \u001b[31m41.3 MB/s\u001b[0m eta \u001b[36m0:00:00\u001b[0m\n",
            "\u001b[?25hCollecting jmespath<2.0.0,>=0.7.1 (from boto3->dagshub)\n",
            "  Downloading jmespath-1.0.1-py3-none-any.whl (20 kB)\n",
            "Collecting s3transfer<0.11.0,>=0.10.0 (from boto3->dagshub)\n",
            "  Downloading s3transfer-0.10.2-py3-none-any.whl (82 kB)\n",
            "\u001b[2K     \u001b[90m━━━━━━━━━━━━━━━━━━━━━━━━━━━━━━━━━━━━━━━━\u001b[0m \u001b[32m82.7/82.7 kB\u001b[0m \u001b[31m9.5 MB/s\u001b[0m eta \u001b[36m0:00:00\u001b[0m\n",
            "\u001b[?25hCollecting marshmallow<4.0.0,>=3.18.0 (from dataclasses-json->dagshub)\n",
            "  Downloading marshmallow-3.21.3-py3-none-any.whl (49 kB)\n",
            "\u001b[2K     \u001b[90m━━━━━━━━━━━━━━━━━━━━━━━━━━━━━━━━━━━━━━━━\u001b[0m \u001b[32m49.2/49.2 kB\u001b[0m \u001b[31m5.0 MB/s\u001b[0m eta \u001b[36m0:00:00\u001b[0m\n",
            "\u001b[?25hCollecting typing-inspect<1,>=0.4.0 (from dataclasses-json->dagshub)\n",
            "  Downloading typing_inspect-0.9.0-py3-none-any.whl (8.8 kB)\n",
            "Collecting graphql-core<3.3,>=3.2 (from gql[requests]->dagshub)\n",
            "  Downloading graphql_core-3.2.3-py3-none-any.whl (202 kB)\n",
            "\u001b[2K     \u001b[90m━━━━━━━━━━━━━━━━━━━━━━━━━━━━━━━━━━━━━━━━\u001b[0m \u001b[32m202.9/202.9 kB\u001b[0m \u001b[31m18.0 MB/s\u001b[0m eta \u001b[36m0:00:00\u001b[0m\n",
            "\u001b[?25hRequirement already satisfied: yarl<2.0,>=1.6 in /usr/local/lib/python3.10/dist-packages (from gql[requests]->dagshub) (1.9.4)\n",
            "Collecting backoff<3.0,>=1.11.1 (from gql[requests]->dagshub)\n",
            "  Downloading backoff-2.2.1-py3-none-any.whl (15 kB)\n",
            "Requirement already satisfied: anyio<5,>=3.0 in /usr/local/lib/python3.10/dist-packages (from gql[requests]->dagshub) (3.7.1)\n",
            "Collecting requests-toolbelt<2,>=1.0.0 (from gql[requests]->dagshub)\n",
            "  Downloading requests_toolbelt-1.0.0-py2.py3-none-any.whl (54 kB)\n",
            "\u001b[2K     \u001b[90m━━━━━━━━━━━━━━━━━━━━━━━━━━━━━━━━━━━━━━━━\u001b[0m \u001b[32m54.5/54.5 kB\u001b[0m \u001b[31m2.9 MB/s\u001b[0m eta \u001b[36m0:00:00\u001b[0m\n",
            "\u001b[?25hRequirement already satisfied: exceptiongroup in /usr/local/lib/python3.10/dist-packages (from anyio<5,>=3.0->gql[requests]->dagshub) (1.2.1)\n",
            "Collecting smmap<6,>=3.0.1 (from gitdb<5,>=4.0.1->GitPython>=3.1.29->dagshub)\n",
            "  Downloading smmap-5.0.1-py3-none-any.whl (24 kB)\n",
            "Collecting h11<0.15,>=0.13 (from httpcore<0.17.0,>=0.15.0->httpx~=0.23.0->dagshub)\n",
            "  Downloading h11-0.14.0-py3-none-any.whl (58 kB)\n",
            "\u001b[2K     \u001b[90m━━━━━━━━━━━━━━━━━━━━━━━━━━━━━━━━━━━━━━━━\u001b[0m \u001b[32m58.3/58.3 kB\u001b[0m \u001b[31m5.4 MB/s\u001b[0m eta \u001b[36m0:00:00\u001b[0m\n",
            "\u001b[?25hRequirement already satisfied: MarkupSafe>=2.0 in /usr/local/lib/python3.10/dist-packages (from jinja2->altair<6,>=4.0->streamlit) (2.1.5)\n",
            "Requirement already satisfied: attrs>=22.2.0 in /usr/local/lib/python3.10/dist-packages (from jsonschema>=3.0->altair<6,>=4.0->streamlit) (23.2.0)\n",
            "Requirement already satisfied: jsonschema-specifications>=2023.03.6 in /usr/local/lib/python3.10/dist-packages (from jsonschema>=3.0->altair<6,>=4.0->streamlit) (2023.12.1)\n",
            "Requirement already satisfied: referencing>=0.28.4 in /usr/local/lib/python3.10/dist-packages (from jsonschema>=3.0->altair<6,>=4.0->streamlit) (0.35.1)\n",
            "Requirement already satisfied: rpds-py>=0.7.1 in /usr/local/lib/python3.10/dist-packages (from jsonschema>=3.0->altair<6,>=4.0->streamlit) (0.18.1)\n",
            "Collecting mypy-extensions>=0.3.0 (from typing-inspect<1,>=0.4.0->dataclasses-json->dagshub)\n",
            "  Downloading mypy_extensions-1.0.0-py3-none-any.whl (4.7 kB)\n",
            "Requirement already satisfied: multidict>=4.0 in /usr/local/lib/python3.10/dist-packages (from yarl<2.0,>=1.6->gql[requests]->dagshub) (6.0.5)\n",
            "Building wheels for collected packages: fusepy\n",
            "  Building wheel for fusepy (setup.py) ... \u001b[?25l\u001b[?25hdone\n",
            "  Created wheel for fusepy: filename=fusepy-3.0.1-py3-none-any.whl size=10487 sha256=1f9e2639f73a0c64c51030f2fb249dcdbcb7898cd59a0eaa0af5a0a63b2e2e24\n",
            "  Stored in directory: /root/.cache/pip/wheels/c0/18/f6/f0d6be9d0435e2677ce5cc758e91da50053dce456a346f08c5\n",
            "Successfully built fusepy\n",
            "Installing collected packages: rfc3986, pydub, fusepy, commonmark, appdirs, watchdog, treelib, tenacity, smmap, rich, pyngrok, pathvalidate, mypy-extensions, marshmallow, jmespath, h11, graphql-core, dacite, backoff, typing-inspect, requests-toolbelt, pydeck, httpcore, gql, gitdb, botocore, s3transfer, httpx, GitPython, dataclasses-json, boto3, streamlit, dagshub\n",
            "  Attempting uninstall: tenacity\n",
            "    Found existing installation: tenacity 8.4.2\n",
            "    Uninstalling tenacity-8.4.2:\n",
            "      Successfully uninstalled tenacity-8.4.2\n",
            "  Attempting uninstall: rich\n",
            "    Found existing installation: rich 13.7.1\n",
            "    Uninstalling rich-13.7.1:\n",
            "      Successfully uninstalled rich-13.7.1\n",
            "Successfully installed GitPython-3.1.43 appdirs-1.4.4 backoff-2.2.1 boto3-1.34.142 botocore-1.34.142 commonmark-0.9.1 dacite-1.6.0 dagshub-0.3.29 dataclasses-json-0.6.7 fusepy-3.0.1 gitdb-4.0.11 gql-3.5.0 graphql-core-3.2.3 h11-0.14.0 httpcore-0.16.3 httpx-0.23.3 jmespath-1.0.1 marshmallow-3.21.3 mypy-extensions-1.0.0 pathvalidate-3.0.0 pydeck-0.9.1 pydub-0.25.1 pyngrok-7.1.6 requests-toolbelt-1.0.0 rfc3986-1.5.0 rich-13.1.0 s3transfer-0.10.2 smmap-5.0.1 streamlit-1.36.0 tenacity-8.2.3 treelib-1.6.4 typing-inspect-0.9.0 watchdog-4.0.1\n"
          ]
        }
      ]
    },
    {
      "cell_type": "code",
      "source": [
        "import dagshub.colab\n",
        "import pandas as pd\n",
        "import matplotlib.pyplot as plt\n",
        "import numpy as np\n",
        "import os\n",
        "import librosa\n",
        "import seaborn as sns\n",
        "from sklearn.model_selection import train_test_split\n",
        "from sklearn.preprocessing import StandardScaler as StandardScalar\n",
        "import warnings\n",
        "warnings.filterwarnings('ignore')\n",
        "import tensorflow as tf\n",
        "from tensorflow.keras.models import Sequential\n",
        "from tensorflow.keras.layers import Dense, Dropout, Conv1D, MaxPooling1D, Flatten,LSTM\n",
        "from sklearn.metrics import classification_report, confusion_matrix\n",
        "from tensorflow.keras.optimizers import Adam\n",
        "from tabulate import tabulate\n",
        "from pyngrok import ngrok"
      ],
      "metadata": {
        "id": "NqQxhI_2_VYt"
      },
      "execution_count": null,
      "outputs": []
    },
    {
      "cell_type": "code",
      "source": [
        "repo=dagshub.colab.login()"
      ],
      "metadata": {
        "colab": {
          "base_uri": "https://localhost:8080/",
          "height": 212,
          "referenced_widgets": [
            "81587aef91764684a8fe882945aa6272",
            "9e265a2f4f3e44d7aef736ed5b485259"
          ]
        },
        "id": "k8-pi9Ov_caU",
        "outputId": "aaf833ac-11d3-4f6a-9ccc-bd037dd9c828",
        "collapsed": true
      },
      "execution_count": null,
      "outputs": [
        {
          "output_type": "display_data",
          "data": {
            "text/plain": [
              "                                       \u001b[1m❗❗❗ AUTHORIZATION REQUIRED ❗❗❗\u001b[0m                                        \n"
            ],
            "text/html": [
              "<pre style=\"white-space:pre;overflow-x:auto;line-height:normal;font-family:Menlo,'DejaVu Sans Mono',consolas,'Courier New',monospace\">                                       <span style=\"font-weight: bold\">❗❗❗ AUTHORIZATION REQUIRED ❗❗❗</span>                                        \n",
              "</pre>\n"
            ]
          },
          "metadata": {}
        },
        {
          "output_type": "display_data",
          "data": {
            "text/plain": [
              "Output()"
            ],
            "application/vnd.jupyter.widget-view+json": {
              "version_major": 2,
              "version_minor": 0,
              "model_id": "81587aef91764684a8fe882945aa6272"
            }
          },
          "metadata": {}
        },
        {
          "output_type": "stream",
          "name": "stdout",
          "text": [
            "\n",
            "\n",
            "Open the following link in your browser to authorize the client:\n",
            "https://dagshub.com/login/oauth/authorize?state=a71eeb45-288a-4924-8e29-b95a136a243f&client_id=32b60ba385aa7cecf24046d8195a71c07dd345d9657977863b52e7748e0f0f28&middleman_request_id=d70c2ac7f78d92ca2902111e930400f01fef8e973f5038a72bd706b0b772ca9e&referrer=colab\n",
            "\n",
            "\n"
          ]
        },
        {
          "output_type": "display_data",
          "data": {
            "text/plain": [],
            "text/html": [
              "<pre style=\"white-space:pre;overflow-x:auto;line-height:normal;font-family:Menlo,'DejaVu Sans Mono',consolas,'Courier New',monospace\"></pre>\n"
            ]
          },
          "metadata": {}
        },
        {
          "output_type": "display_data",
          "data": {
            "text/plain": [
              "Accessing as AJSTYLE-lab\n"
            ],
            "text/html": [
              "<pre style=\"white-space:pre;overflow-x:auto;line-height:normal;font-family:Menlo,'DejaVu Sans Mono',consolas,'Courier New',monospace\">Accessing as AJSTYLE-lab\n",
              "</pre>\n"
            ]
          },
          "metadata": {}
        },
        {
          "output_type": "stream",
          "name": "stdout",
          "text": [
            "Repository AJSTYLE-lab/dagshub-drive is ready for use with Colab. Link to the repository:\n",
            "https://dagshub.com/AJSTYLE-lab/dagshub-drive\n"
          ]
        }
      ]
    },
    {
      "cell_type": "code",
      "source": [
        "path=dagshub.storage.mount('Omdena/BangladeshChapter_AudioShield')"
      ],
      "metadata": {
        "id": "KH8Qh212_gKd",
        "collapsed": true,
        "colab": {
          "base_uri": "https://localhost:8080/",
          "height": 188
        },
        "outputId": "5a2d2235-6f0a-471d-f554-efa89cd6b1bf"
      },
      "execution_count": null,
      "outputs": [
        {
          "name": "stdout",
          "output_type": "stream",
          "text": [
            "Do you want to install all missing packages?\n",
            "Are you sure [y/(N)]: y\n"
          ]
        },
        {
          "output_type": "display_data",
          "data": {
            "text/plain": [
              "Installing rclone\u001b[33m...\u001b[0m\n"
            ],
            "text/html": [
              "<pre style=\"white-space:pre;overflow-x:auto;line-height:normal;font-family:Menlo,'DejaVu Sans Mono',consolas,'Courier New',monospace\">Installing rclone<span style=\"color: #808000; text-decoration-color: #808000\">...</span>\n",
              "</pre>\n"
            ]
          },
          "metadata": {}
        },
        {
          "output_type": "display_data",
          "data": {
            "text/plain": [
              "rclone installed successfully.\n"
            ],
            "text/html": [
              "<pre style=\"white-space:pre;overflow-x:auto;line-height:normal;font-family:Menlo,'DejaVu Sans Mono',consolas,'Courier New',monospace\">rclone installed successfully.\n",
              "</pre>\n"
            ]
          },
          "metadata": {}
        },
        {
          "output_type": "display_data",
          "data": {
            "text/plain": [
              "Installing fusermount3\u001b[33m...\u001b[0m\n"
            ],
            "text/html": [
              "<pre style=\"white-space:pre;overflow-x:auto;line-height:normal;font-family:Menlo,'DejaVu Sans Mono',consolas,'Courier New',monospace\">Installing fusermount3<span style=\"color: #808000; text-decoration-color: #808000\">...</span>\n",
              "</pre>\n"
            ]
          },
          "metadata": {}
        },
        {
          "output_type": "display_data",
          "data": {
            "text/plain": [
              "fusermount3 installed successfully.\n"
            ],
            "text/html": [
              "<pre style=\"white-space:pre;overflow-x:auto;line-height:normal;font-family:Menlo,'DejaVu Sans Mono',consolas,'Courier New',monospace\">fusermount3 installed successfully.\n",
              "</pre>\n"
            ]
          },
          "metadata": {}
        },
        {
          "output_type": "display_data",
          "data": {
            "text/plain": [
              "Successfully mounted DagsHub Storage in \u001b[32m'BangladeshChapter_AudioShield'\u001b[0m to \n",
              "\u001b[32m'BangladeshChapter_AudioShield/dagshub_storage'\u001b[0m.\n"
            ],
            "text/html": [
              "<pre style=\"white-space:pre;overflow-x:auto;line-height:normal;font-family:Menlo,'DejaVu Sans Mono',consolas,'Courier New',monospace\">Successfully mounted DagsHub Storage in <span style=\"color: #008000; text-decoration-color: #008000\">'BangladeshChapter_AudioShield'</span> to \n",
              "<span style=\"color: #008000; text-decoration-color: #008000\">'BangladeshChapter_AudioShield/dagshub_storage'</span>.\n",
              "</pre>\n"
            ]
          },
          "metadata": {}
        },
        {
          "output_type": "display_data",
          "data": {
            "text/plain": [
              "To unmount, run `\u001b[1;35mdagshub.storage.unmount\u001b[0m\u001b[1m(\u001b[0m\u001b[33mrepo\u001b[0m=\u001b[32m\"Omdena\u001b[0m\u001b[32m/BangladeshChapter_AudioShield\"\u001b[0m, \n",
              "\u001b[33mpath\u001b[0m=\u001b[32m\"BangladeshChapter_AudioShield\u001b[0m\u001b[32m/dagshub_storage\"\u001b[0m\u001b[1m)\u001b[0m`.\n"
            ],
            "text/html": [
              "<pre style=\"white-space:pre;overflow-x:auto;line-height:normal;font-family:Menlo,'DejaVu Sans Mono',consolas,'Courier New',monospace\">To unmount, run `<span style=\"color: #800080; text-decoration-color: #800080; font-weight: bold\">dagshub.storage.unmount</span><span style=\"font-weight: bold\">(</span><span style=\"color: #808000; text-decoration-color: #808000\">repo</span>=<span style=\"color: #008000; text-decoration-color: #008000\">\"Omdena/BangladeshChapter_AudioShield\"</span>, \n",
              "<span style=\"color: #808000; text-decoration-color: #808000\">path</span>=<span style=\"color: #008000; text-decoration-color: #008000\">\"BangladeshChapter_AudioShield/dagshub_storage\"</span><span style=\"font-weight: bold\">)</span>`.\n",
              "</pre>\n"
            ]
          },
          "metadata": {}
        }
      ]
    },
    {
      "cell_type": "markdown",
      "source": [
        "<a name=\"load-dataset\"></a>\n",
        "## 2. Load Dataset\n",
        "\n",
        "---\n",
        "\n",
        "Protocol Files(Meta Data):\n",
        "\n",
        "---"
      ],
      "metadata": {
        "id": "Z7NRsqNMCjeO"
      }
    },
    {
      "cell_type": "code",
      "source": [
        "def load_protocol(file_path):\n",
        "    df = pd.read_csv(file_path, delim_whitespace=True, header=None)\n",
        "    df.columns = ['speaker_id', 'audio_file_name', 'system_id', '-', 'key']\n",
        "    return df\n",
        "train_protocol = load_protocol('/content/BangladeshChapter_AudioShield/dagshub_storage/data/ASVspoof2019_LA_cm_protocols/ASVspoof2019.LA.cm.train.trn.txt')\n",
        "dev_protocol = load_protocol('/content/BangladeshChapter_AudioShield/dagshub_storage/data/ASVspoof2019_LA_cm_protocols/ASVspoof2019.LA.cm.dev.trl.txt')\n",
        "eval_protocol = load_protocol('/content/BangladeshChapter_AudioShield/dagshub_storage/data/ASVspoof2019_LA_cm_protocols/ASVspoof2019.LA.cm.eval.trl.txt')\n",
        "#----------------------------------------------------------\n",
        "combined_protocol=pd.concat([train_protocol,dev_protocol])\n",
        "combined_protocol=combined_protocol[:1000]\n",
        "combined_protocol=pd.concat([train_protocol,dev_protocol])\n",
        "combined_protocol=combined_protocol[:1000]\n",
        "eval_protocol=eval_protocol[:1000]\n",
        "#----------------------------------------------------------\n",
        "# ANSI escape code for bold text\n",
        "bold_start = '\\033[1m'\n",
        "bold_end = '\\033[0m'\n",
        "print(f'{bold_start}Training Protocol (Meta Data):{bold_end}\\n{train_protocol.head(3)}')\n",
        "print(f'{bold_start}Evaluation Protocol (Meta Data):{bold_end}\\n{eval_protocol.head(3)}')"
      ],
      "metadata": {
        "id": "w7_mTHx2E75b"
      },
      "execution_count": null,
      "outputs": []
    },
    {
      "cell_type": "code",
      "source": [
        "bonafide_df = train_protocol[train_protocol['key'] == 'bonafide']\n",
        "spoof_df = train_protocol[train_protocol['key'] == 'spoof']\n",
        "n_samples = min(len(bonafide_df), len(spoof_df))\n",
        "bonafide_sample = bonafide_df.sample(n=n_samples, random_state=42)\n",
        "spoof_sample = spoof_df.sample(n=n_samples, random_state=42)\n",
        "train_protocol = pd.concat([bonafide_sample, spoof_sample]).reset_index(drop=True)\n",
        "print(f'{bold_start}Resampled Audio Data 50% bonafie and 50% spoof:{bold_end}\\n{train_protocol}')"
      ],
      "metadata": {
        "id": "11KXtDSuPMto",
        "colab": {
          "base_uri": "https://localhost:8080/"
        },
        "outputId": "d7399d8a-6721-4104-f542-21241340c6e2"
      },
      "execution_count": null,
      "outputs": [
        {
          "output_type": "stream",
          "name": "stdout",
          "text": [
            "\u001b[1mResampled Audio Data 50% bonafie and 50% spoof:\u001b[0m\n",
            "     speaker_id audio_file_name system_id    -       key\n",
            "0       LA_0085    LA_T_3891170         -    -  bonafide\n",
            "1       LA_0097    LA_T_2948101         -    -  bonafide\n",
            "2       LA_0084    LA_T_8919107         -    -  bonafide\n",
            "3       LA_0081    LA_T_6650735         -    -  bonafide\n",
            "4       LA_0086    LA_T_5362691         -    -  bonafide\n",
            "...         ...             ...       ...  ...       ...\n",
            "5155    LA_0080    LA_T_4317661         -  A02     spoof\n",
            "5156    LA_0098    LA_T_4180224         -  A04     spoof\n",
            "5157    LA_0095    LA_T_6198434         -  A02     spoof\n",
            "5158    LA_0086    LA_T_8596135         -  A05     spoof\n",
            "5159    LA_0088    LA_T_9751121         -  A05     spoof\n",
            "\n",
            "[5160 rows x 5 columns]\n"
          ]
        }
      ]
    },
    {
      "cell_type": "code",
      "source": [
        "bonafide_df = eval_protocol[eval_protocol['key'] == 'bonafide']\n",
        "spoof_df = eval_protocol[eval_protocol['key'] == 'spoof']\n",
        "n_samples = min(len(bonafide_df), len(spoof_df))\n",
        "bonafide_sample = bonafide_df.sample(n=n_samples, random_state=42)\n",
        "spoof_sample = spoof_df.sample(n=n_samples, random_state=42)\n",
        "eval_protocol = pd.concat([bonafide_sample, spoof_sample]).reset_index(drop=True)\n",
        "print(f'{bold_start}Resampled Audio Data 50% bonafie and 50% spoof:{bold_end}\\n{eval_protocol}')"
      ],
      "metadata": {
        "id": "8CijOrCMRk8H",
        "colab": {
          "base_uri": "https://localhost:8080/"
        },
        "outputId": "944a06f5-67ee-40bc-f08a-237c727bee9e"
      },
      "execution_count": null,
      "outputs": [
        {
          "output_type": "stream",
          "name": "stdout",
          "text": [
            "\u001b[1mResampled Audio Data 50% bonafie and 50% spoof:\u001b[0m\n",
            "    speaker_id audio_file_name system_id    -       key\n",
            "0      LA_0007    LA_E_5739678         -    -  bonafide\n",
            "1      LA_0068    LA_E_4022756         -    -  bonafide\n",
            "2      LA_0028    LA_E_3757378         -    -  bonafide\n",
            "3      LA_0049    LA_E_1648428         -    -  bonafide\n",
            "4      LA_0034    LA_E_1911910         -    -  bonafide\n",
            "..         ...             ...       ...  ...       ...\n",
            "233    LA_0047    LA_E_9214577         -  A18     spoof\n",
            "234    LA_0003    LA_E_5440945         -  A12     spoof\n",
            "235    LA_0017    LA_E_5172390         -  A16     spoof\n",
            "236    LA_0033    LA_E_5918723         -  A11     spoof\n",
            "237    LA_0027    LA_E_9472623         -  A12     spoof\n",
            "\n",
            "[238 rows x 5 columns]\n"
          ]
        }
      ]
    },
    {
      "cell_type": "markdown",
      "source": [
        "---\n",
        "Loading \"ASVspoof2019_LA_train\" Files:\n",
        "\n",
        " ---"
      ],
      "metadata": {
        "id": "B9E4_mQcSn0e"
      }
    },
    {
      "cell_type": "code",
      "source": [
        "def list_files(directory, extension):\n",
        "    return [f for f in os.listdir(directory) if f.endswith(extension)]\n",
        "train_audio_dir = '/content/BangladeshChapter_AudioShield/dagshub_storage/data/ASVspoof2019_LA_train/flac'\n",
        "eval_audio_dir=f'/content/BangladeshChapter_AudioShield/dagshub_storage/data/ASVspoof2019_LA_eval/flac'\n",
        "train_files = list_files(train_audio_dir, '.flac')\n",
        "eval_files = list_files(eval_audio_dir, '.flac')\n",
        "print(f\"Number of training files: {len(train_files)}\")\n",
        "print(f\"Number of evaluation files: {len(eval_files)}\")"
      ],
      "metadata": {
        "id": "AUI0PUOvQtLP",
        "colab": {
          "base_uri": "https://localhost:8080/"
        },
        "outputId": "c5571ed1-fc9a-48fd-8590-8c180d0b9aaf"
      },
      "execution_count": null,
      "outputs": [
        {
          "output_type": "stream",
          "name": "stdout",
          "text": [
            "Number of training files: 25380\n",
            "Number of evaluation files: 71933\n"
          ]
        }
      ]
    },
    {
      "cell_type": "markdown",
      "source": [
        "Now We have Done with our Data Loading Part (Meta Data and Audio Files)"
      ],
      "metadata": {
        "id": "6wCZoJ5oTSqB"
      }
    },
    {
      "cell_type": "markdown",
      "source": [
        "<a name=\"data-preprocessing\"></a>\n",
        "\n",
        "## 3. Data Preprocessing\n",
        "\n",
        "---\n",
        "\n",
        "- [Extracting Features from Audio Files](#extract-function)\n",
        "- [Preparing Dataset using Meta Data and Audio Files](#prepare-function)\n",
        "\n",
        "---\n",
        "\n",
        "This function will return numeric type features to the Prepare Data function:\n",
        "\n",
        "<a name=\"extract-function\"></a>\n"
      ],
      "metadata": {
        "id": "7gLFMzqGCrRT"
      }
    },
    {
      "cell_type": "code",
      "source": [
        "def extract_features(file_path):\n",
        "    y, sr = librosa.load(file_path, sr=16000)\n",
        "    features = {\n",
        "        'chroma_stft': np.mean(librosa.feature.chroma_stft(y=y, sr=sr)),\n",
        "        'rmse': np.mean(librosa.feature.rms(y=y)),\n",
        "        'spectral_centroid': np.mean(librosa.feature.spectral_centroid(y=y, sr=sr)),\n",
        "        'spectral_bandwidth': np.mean(librosa.feature.spectral_bandwidth(y=y, sr=sr)),\n",
        "        'rolloff': np.mean(librosa.feature.spectral_rolloff(y=y, sr=sr)),\n",
        "        'zero_crossing_rate': np.mean(librosa.feature.zero_crossing_rate(y=y)),\n",
        "    }\n",
        "    mfcc = librosa.feature.mfcc(y=y, sr=sr)\n",
        "    for i in range(1, 21):\n",
        "        features[f'mfcc{i}'] = np.mean(mfcc[i-1])\n",
        "    return features"
      ],
      "metadata": {
        "id": "im7B0yb_FruW"
      },
      "execution_count": null,
      "outputs": []
    },
    {
      "cell_type": "markdown",
      "source": [
        "<a name=\"prepare-function\"></a>\n",
        "\n",
        "Preparing Dataset from Protocol (Meta-data) and Audio Files\n",
        "\n",
        "---\n"
      ],
      "metadata": {
        "id": "VJX8AXeKVwlx"
      }
    },
    {
      "cell_type": "code",
      "source": [
        "def prepare_dataset(protocol, audio_dir):\n",
        "    features = []\n",
        "    labels = []\n",
        "    missing_files = 0\n",
        "    file_counter = 0\n",
        "    for _, row in protocol.iterrows():\n",
        "        file_name = row['audio_file_name'] + '.flac'\n",
        "        file_path = os.path.join(audio_dir, file_name)\n",
        "        if os.path.exists(file_path):\n",
        "            feats = extract_features(file_path)\n",
        "            features.append(feats)\n",
        "            if row['key'] == 'bonafide':\n",
        "                labels.append(1)\n",
        "            else:\n",
        "                labels.append(0)\n",
        "            file_counter=1+file_counter\n",
        "            if file_counter % 1000 == 0:\n",
        "                print(f\"{file_counter} files are prepared.\")\n",
        "        else:\n",
        "            missing_files += 1\n",
        "            print(f\"File not found: {file_path}\")\n",
        "    print(f\"Total missing files: {missing_files}\")\n",
        "    return pd.DataFrame(features), labels"
      ],
      "metadata": {
        "id": "UUXvqrC5SMof"
      },
      "execution_count": null,
      "outputs": []
    },
    {
      "cell_type": "code",
      "source": [
        "X_train_feature, y_train_label = prepare_dataset(train_protocol,train_audio_dir)\n",
        "eval_X_train_feature,eval_y_train_label = prepare_dataset(eval_protocol,eval_audio_dir)"
      ],
      "metadata": {
        "id": "jSzy2b3LWKRl",
        "colab": {
          "base_uri": "https://localhost:8080/"
        },
        "outputId": "c04cbb79-46eb-4a1b-a4b2-99fa5d498386"
      },
      "execution_count": null,
      "outputs": [
        {
          "output_type": "stream",
          "name": "stdout",
          "text": [
            "1000 files are prepared.\n",
            "2000 files are prepared.\n",
            "3000 files are prepared.\n",
            "4000 files are prepared.\n",
            "5000 files are prepared.\n",
            "Total missing files: 0\n",
            "Total missing files: 0\n"
          ]
        }
      ]
    },
    {
      "cell_type": "code",
      "source": [
        "y_train_label=pd.DataFrame(y_train_label, columns=['Label'])\n",
        "train_protocol_df=pd.concat([X_train_feature,y_train_label], axis=1)\n",
        "eval_y_train_label=pd.DataFrame(eval_y_train_label, columns=['Label'])\n",
        "eval_protocol_df=pd.concat([eval_X_train_feature,eval_y_train_label], axis=1)"
      ],
      "metadata": {
        "id": "s4wjkLaUWLup"
      },
      "execution_count": null,
      "outputs": []
    },
    {
      "cell_type": "code",
      "source": [
        "print(f'{bold_start}Training Protocol Feature Extraction Dataset:{bold_end}\\n{train_protocol_df.head(3)}')\n",
        "print(f'{bold_start}Eval Protocol Feature Extraction Dataset:{bold_end}\\n{eval_protocol_df.head(3)}')"
      ],
      "metadata": {
        "id": "wqIxkPUDLCMG",
        "colab": {
          "base_uri": "https://localhost:8080/"
        },
        "outputId": "c2df4b91-5aa4-4f5a-99e0-33108f9bb566"
      },
      "execution_count": null,
      "outputs": [
        {
          "output_type": "stream",
          "name": "stdout",
          "text": [
            "\u001b[1mTraining Protocol Feature Extraction Dataset:\u001b[0m\n",
            "   chroma_stft      rmse  spectral_centroid  spectral_bandwidth      rolloff  \\\n",
            "0     0.391776  0.068915        1762.543950         1777.953292  3732.106855   \n",
            "1     0.439666  0.067388        1992.767278         1927.290746  4257.868304   \n",
            "2     0.477750  0.059570        1613.564237         1840.270639  3581.208882   \n",
            "\n",
            "   zero_crossing_rate       mfcc1      mfcc2     mfcc3      mfcc4  ...  \\\n",
            "0            0.107989 -335.683228  50.050442 -0.056733  14.924784  ...   \n",
            "1            0.148465 -348.797760  51.896759  6.974509  16.935558  ...   \n",
            "2            0.083348 -386.200043  54.717537  3.309041   4.043225  ...   \n",
            "\n",
            "     mfcc12    mfcc13     mfcc14     mfcc15    mfcc16    mfcc17    mfcc18  \\\n",
            "0 -1.599358 -0.232598  -8.350106  -8.252807 -6.239420 -9.094419 -7.465391   \n",
            "1 -2.959586 -5.479351 -12.608039 -12.425113 -4.495106 -5.698269 -7.695644   \n",
            "2 -4.400430  0.106340  -4.266105  -8.893148 -4.705801 -8.756739 -3.464779   \n",
            "\n",
            "     mfcc19     mfcc20  Label  \n",
            "0 -5.553725  -8.442665      1  \n",
            "1 -8.813778 -10.039842      1  \n",
            "2 -7.880842  -4.586489      1  \n",
            "\n",
            "[3 rows x 27 columns]\n",
            "\u001b[1mEval Protocol Feature Extraction Dataset:\u001b[0m\n",
            "   chroma_stft      rmse  spectral_centroid  spectral_bandwidth      rolloff  \\\n",
            "0     0.426783  0.039340        1495.221076         1875.072098  3623.541667   \n",
            "1     0.448478  0.055770        1734.664879         1864.016195  3703.884109   \n",
            "2     0.443191  0.066208        1504.322800         1761.624349  3450.757576   \n",
            "\n",
            "   zero_crossing_rate       mfcc1      mfcc2      mfcc3      mfcc4  ...  \\\n",
            "0            0.058919 -434.579529  70.187233  10.380107  24.937893  ...   \n",
            "1            0.085884 -362.946808  56.914944  12.241622  14.180906  ...   \n",
            "2            0.065548 -386.396729  66.464516   3.748815  19.588856  ...   \n",
            "\n",
            "     mfcc12    mfcc13    mfcc14    mfcc15    mfcc16    mfcc17    mfcc18  \\\n",
            "0 -4.631271 -4.968020 -1.335557 -6.299715 -5.177821 -5.492225 -7.892028   \n",
            "1 -3.610722  3.404125 -2.110395 -2.896081 -4.667782 -7.208942 -6.605045   \n",
            "2 -0.481732 -7.784773 -2.592196 -2.273544 -7.855770 -0.023113 -6.831262   \n",
            "\n",
            "     mfcc19    mfcc20  Label  \n",
            "0 -8.192225 -8.863823      1  \n",
            "1 -6.949172 -4.430108      1  \n",
            "2 -9.744547 -9.850609      1  \n",
            "\n",
            "[3 rows x 27 columns]\n"
          ]
        }
      ]
    },
    {
      "cell_type": "code",
      "source": [
        "train_protocol_df.to_csv(\"Train_Protocol_Dataset.csv\",index=False)\n",
        "eval_protocol_df.to_csv(\"Eval_Protocol_Dataset.csv\",index=False)"
      ],
      "metadata": {
        "id": "L40sy5R4YYNZ"
      },
      "execution_count": null,
      "outputs": []
    },
    {
      "cell_type": "markdown",
      "source": [
        "<a name=\"model-training\"></a>\n",
        "\n",
        "---\n",
        "## 4. Deep Models Training\n",
        "---\n",
        "\n",
        "- [4.1 CNN Model Training](#cnn-model)\n",
        "- [4.2 RNN (LSTM) Model Training](#lstm-model)\n"
      ],
      "metadata": {
        "id": "G4sHwPkpgQS8"
      }
    },
    {
      "cell_type": "code",
      "source": [
        "train_df=pd.read_csv(\"Train_Protocol_Dataset.csv\")\n",
        "eval_df=pd.read_csv(\"Eval_Protocol_Dataset.csv\")\n",
        "train_df.drop_duplicates(inplace=True)\n",
        "eval_df.drop_duplicates(inplace=True)"
      ],
      "metadata": {
        "id": "7ljT-CtweRer"
      },
      "execution_count": null,
      "outputs": []
    },
    {
      "cell_type": "code",
      "source": [
        "train_df['Label'].value_counts()"
      ],
      "metadata": {
        "colab": {
          "base_uri": "https://localhost:8080/"
        },
        "id": "8QyCGMfnovMJ",
        "outputId": "573a6627-0d47-46c9-cca6-ba2b2fc7711a"
      },
      "execution_count": null,
      "outputs": [
        {
          "output_type": "execute_result",
          "data": {
            "text/plain": [
              "Label\n",
              "1    2580\n",
              "0    2580\n",
              "Name: count, dtype: int64"
            ]
          },
          "metadata": {},
          "execution_count": 12
        }
      ]
    },
    {
      "cell_type": "code",
      "source": [
        "eval_df['Label'].value_counts()"
      ],
      "metadata": {
        "colab": {
          "base_uri": "https://localhost:8080/"
        },
        "id": "Mc-YaOdGpZFk",
        "outputId": "f7e160ed-1140-4ac2-d559-619541831803"
      },
      "execution_count": null,
      "outputs": [
        {
          "output_type": "execute_result",
          "data": {
            "text/plain": [
              "Label\n",
              "1    119\n",
              "0    119\n",
              "Name: count, dtype: int64"
            ]
          },
          "metadata": {},
          "execution_count": 13
        }
      ]
    },
    {
      "cell_type": "code",
      "source": [
        "X_train=train_df.drop('Label',axis=1)\n",
        "y_train=train_df['Label']\n",
        "X_eval=eval_df.drop('Label',axis=1)\n",
        "y_eval=eval_df['Label']"
      ],
      "metadata": {
        "id": "SR6_Gb4Jek-d"
      },
      "execution_count": null,
      "outputs": []
    },
    {
      "cell_type": "code",
      "source": [
        "scaler=StandardScalar()"
      ],
      "metadata": {
        "id": "mNp30mfufOTS"
      },
      "execution_count": null,
      "outputs": []
    },
    {
      "cell_type": "code",
      "source": [
        "X_train_scaled = scaler.fit_transform(X_train)\n",
        "X_eval_scaled = scaler.transform(X_eval)\n"
      ],
      "metadata": {
        "id": "6Gnl2J-Eg2mO"
      },
      "execution_count": null,
      "outputs": []
    },
    {
      "cell_type": "code",
      "source": [
        "print(f\"Training data shape: {X_train.shape}, Labels shape: {y_train.shape}\")\n",
        "print(f\"Evaluation data shape: {X_eval.shape}, Labels shape: {y_eval.shape}\")"
      ],
      "metadata": {
        "colab": {
          "base_uri": "https://localhost:8080/"
        },
        "id": "omuf0bykhIZf",
        "outputId": "84f4af04-fd73-4e04-90be-c013f09e7e4a"
      },
      "execution_count": null,
      "outputs": [
        {
          "output_type": "stream",
          "name": "stdout",
          "text": [
            "Training data shape: (5160, 26), Labels shape: (5160,)\n",
            "Evaluation data shape: (238, 26), Labels shape: (238,)\n"
          ]
        }
      ]
    },
    {
      "cell_type": "code",
      "source": [
        "X_train_cnn = np.array(X_train).reshape(X_train.shape[0], X_train.shape[1], 1)\n",
        "X_eval_cnn = np.array(X_eval).reshape(X_eval.shape[0], X_eval.shape[1], 1)\n",
        "#-------------------------------------------------------------------------\n",
        "X_train_lstm = np.array(X_train).reshape(X_train.shape[0], X_train.shape[1], 1)\n",
        "X_eval_lstm = np.array(X_eval).reshape(X_eval.shape[0], X_eval.shape[1], 1)"
      ],
      "metadata": {
        "id": "Mal2QF7-hPBH"
      },
      "execution_count": null,
      "outputs": []
    },
    {
      "cell_type": "code",
      "source": [
        "cnn_model = Sequential([\n",
        "    Conv1D(64, 3, activation='relu', input_shape=(X_train_cnn.shape[1], 1)),\n",
        "    MaxPooling1D(2),\n",
        "    Conv1D(128, 3, activation='relu'),\n",
        "    MaxPooling1D(2),\n",
        "    Flatten(),\n",
        "    Dense(128, activation='relu'),\n",
        "    Dropout(0.5),\n",
        "    Dense(1, activation='sigmoid')\n",
        "])\n"
      ],
      "metadata": {
        "id": "2GpOk0Rmif4n"
      },
      "execution_count": null,
      "outputs": []
    },
    {
      "cell_type": "markdown",
      "source": [
        "<a name=\"cnn-model\"></a>\n",
        "\n",
        "##4.1 CNN Model Trainig:\n"
      ],
      "metadata": {
        "id": "dbtD-us26y0Y"
      }
    },
    {
      "cell_type": "code",
      "source": [
        "optimizer = Adam(learning_rate=0.001)\n",
        "cnn_model.compile(optimizer=optimizer, loss='binary_crossentropy', metrics=['accuracy'])\n"
      ],
      "metadata": {
        "id": "qbYkJoy2kTXn"
      },
      "execution_count": null,
      "outputs": []
    },
    {
      "cell_type": "code",
      "source": [
        "cnn_history = cnn_model.fit(X_train_cnn, y_train, epochs=30, batch_size=32, validation_data=(X_eval_cnn, y_eval))\n"
      ],
      "metadata": {
        "colab": {
          "base_uri": "https://localhost:8080/"
        },
        "collapsed": true,
        "id": "vtFujH61kaB0",
        "outputId": "8b69bca8-68f5-4aab-ec39-c9e67d087617"
      },
      "execution_count": null,
      "outputs": [
        {
          "output_type": "stream",
          "name": "stdout",
          "text": [
            "Epoch 1/30\n",
            "162/162 [==============================] - 5s 18ms/step - loss: 4.1097 - accuracy: 0.5570 - val_loss: 0.6524 - val_accuracy: 0.6849\n",
            "Epoch 2/30\n",
            "162/162 [==============================] - 3s 18ms/step - loss: 0.6297 - accuracy: 0.5742 - val_loss: 0.5352 - val_accuracy: 0.7899\n",
            "Epoch 3/30\n",
            "162/162 [==============================] - 3s 17ms/step - loss: 0.6469 - accuracy: 0.6048 - val_loss: 0.5186 - val_accuracy: 0.7983\n",
            "Epoch 4/30\n",
            "162/162 [==============================] - 2s 14ms/step - loss: 0.6093 - accuracy: 0.6260 - val_loss: 0.6089 - val_accuracy: 0.6765\n",
            "Epoch 5/30\n",
            "162/162 [==============================] - 2s 13ms/step - loss: 0.6108 - accuracy: 0.6083 - val_loss: 0.5107 - val_accuracy: 0.7815\n",
            "Epoch 6/30\n",
            "162/162 [==============================] - 2s 13ms/step - loss: 0.6355 - accuracy: 0.6027 - val_loss: 0.5073 - val_accuracy: 0.7731\n",
            "Epoch 7/30\n",
            "162/162 [==============================] - 2s 14ms/step - loss: 0.6765 - accuracy: 0.5293 - val_loss: 0.6918 - val_accuracy: 0.5084\n",
            "Epoch 8/30\n",
            "162/162 [==============================] - 3s 19ms/step - loss: 0.6420 - accuracy: 0.5903 - val_loss: 0.5318 - val_accuracy: 0.7983\n",
            "Epoch 9/30\n",
            "162/162 [==============================] - 3s 16ms/step - loss: 0.6037 - accuracy: 0.6630 - val_loss: 0.5004 - val_accuracy: 0.7857\n",
            "Epoch 10/30\n",
            "162/162 [==============================] - 2s 14ms/step - loss: 0.5772 - accuracy: 0.6864 - val_loss: 0.4936 - val_accuracy: 0.7815\n",
            "Epoch 11/30\n",
            "162/162 [==============================] - 2s 13ms/step - loss: 0.5706 - accuracy: 0.6884 - val_loss: 0.4805 - val_accuracy: 0.7815\n",
            "Epoch 12/30\n",
            "162/162 [==============================] - 2s 13ms/step - loss: 0.5907 - accuracy: 0.6597 - val_loss: 0.4851 - val_accuracy: 0.7899\n",
            "Epoch 13/30\n",
            "162/162 [==============================] - 3s 17ms/step - loss: 0.6005 - accuracy: 0.6475 - val_loss: 0.5163 - val_accuracy: 0.7857\n",
            "Epoch 14/30\n",
            "162/162 [==============================] - 4s 23ms/step - loss: 0.6101 - accuracy: 0.6326 - val_loss: 0.4984 - val_accuracy: 0.7899\n",
            "Epoch 15/30\n",
            "162/162 [==============================] - 2s 14ms/step - loss: 0.6023 - accuracy: 0.6426 - val_loss: 0.6705 - val_accuracy: 0.5672\n",
            "Epoch 16/30\n",
            "162/162 [==============================] - 2s 13ms/step - loss: 0.6052 - accuracy: 0.6378 - val_loss: 0.4972 - val_accuracy: 0.8025\n",
            "Epoch 17/30\n",
            "162/162 [==============================] - 2s 14ms/step - loss: 0.5613 - accuracy: 0.7008 - val_loss: 0.5074 - val_accuracy: 0.7689\n",
            "Epoch 18/30\n",
            "162/162 [==============================] - 2s 13ms/step - loss: 0.5566 - accuracy: 0.7039 - val_loss: 0.4682 - val_accuracy: 0.8067\n",
            "Epoch 19/30\n",
            "162/162 [==============================] - 2s 15ms/step - loss: 0.5395 - accuracy: 0.7182 - val_loss: 0.4621 - val_accuracy: 0.8193\n",
            "Epoch 20/30\n",
            "162/162 [==============================] - 3s 19ms/step - loss: 0.5240 - accuracy: 0.7269 - val_loss: 0.4526 - val_accuracy: 0.8151\n",
            "Epoch 21/30\n",
            "162/162 [==============================] - 3s 16ms/step - loss: 0.5273 - accuracy: 0.7264 - val_loss: 0.5118 - val_accuracy: 0.7605\n",
            "Epoch 22/30\n",
            "162/162 [==============================] - 2s 10ms/step - loss: 0.7878 - accuracy: 0.6529 - val_loss: 0.4815 - val_accuracy: 0.7815\n",
            "Epoch 23/30\n",
            "162/162 [==============================] - 1s 7ms/step - loss: 0.5823 - accuracy: 0.6649 - val_loss: 0.5133 - val_accuracy: 0.7773\n",
            "Epoch 24/30\n",
            "162/162 [==============================] - 1s 8ms/step - loss: 0.5370 - accuracy: 0.7234 - val_loss: 0.4715 - val_accuracy: 0.7941\n",
            "Epoch 25/30\n",
            "162/162 [==============================] - 1s 8ms/step - loss: 0.5293 - accuracy: 0.7213 - val_loss: 0.4676 - val_accuracy: 0.7983\n",
            "Epoch 26/30\n",
            "162/162 [==============================] - 1s 7ms/step - loss: 0.5243 - accuracy: 0.7262 - val_loss: 0.4666 - val_accuracy: 0.7941\n",
            "Epoch 27/30\n",
            "162/162 [==============================] - 1s 7ms/step - loss: 0.5290 - accuracy: 0.7221 - val_loss: 0.4669 - val_accuracy: 0.7983\n",
            "Epoch 28/30\n",
            "162/162 [==============================] - 2s 12ms/step - loss: 0.5345 - accuracy: 0.7190 - val_loss: 0.4547 - val_accuracy: 0.8067\n",
            "Epoch 29/30\n",
            "162/162 [==============================] - 2s 12ms/step - loss: 0.5217 - accuracy: 0.7306 - val_loss: 0.4628 - val_accuracy: 0.8109\n",
            "Epoch 30/30\n",
            "162/162 [==============================] - 1s 9ms/step - loss: 0.5190 - accuracy: 0.7355 - val_loss: 0.4983 - val_accuracy: 0.7647\n"
          ]
        }
      ]
    },
    {
      "cell_type": "code",
      "source": [
        "cnn_loss, cnn_accuracy = cnn_model.evaluate(X_eval_cnn, y_eval)\n",
        "print(f\"CNN Model Evaluation - Loss: {cnn_loss*100:.2f}%, Accuracy: {cnn_accuracy*100:.2f}%\")"
      ],
      "metadata": {
        "colab": {
          "base_uri": "https://localhost:8080/"
        },
        "id": "RAL-ZohLrrp3",
        "outputId": "76544158-f1f5-4c1e-aefe-4eb096baafa3"
      },
      "execution_count": null,
      "outputs": [
        {
          "output_type": "stream",
          "name": "stdout",
          "text": [
            "8/8 [==============================] - 0s 4ms/step - loss: 0.4983 - accuracy: 0.7647\n",
            "CNN Model Evaluation - Loss: 49.83%, Accuracy: 76.47%\n"
          ]
        }
      ]
    },
    {
      "cell_type": "markdown",
      "source": [
        "<a name=\"lstm-model\"></a>\n",
        "\n",
        "---\n",
        "##4.1 LSTM Model Training:\n",
        "---"
      ],
      "metadata": {
        "id": "uatJzlmulpT_"
      }
    },
    {
      "cell_type": "code",
      "source": [
        "# Define the LSTM model\n",
        "lstm_model = Sequential([\n",
        "    LSTM(64, input_shape=(X_train_lstm.shape[1], X_train_lstm.shape[2])),\n",
        "    Dense(64, activation='relu'),\n",
        "    Dropout(0.5),\n",
        "    Dense(1, activation='sigmoid')\n",
        "])"
      ],
      "metadata": {
        "id": "nliH8tHxlQjM"
      },
      "execution_count": null,
      "outputs": []
    },
    {
      "cell_type": "code",
      "source": [
        "optimizer = Adam(learning_rate=0.001)\n",
        "lstm_model.compile(optimizer='adam',loss='binary_crossentropy',\n",
        "                   metrics=['accuracy'])"
      ],
      "metadata": {
        "id": "tjUl-zsDluDx"
      },
      "execution_count": null,
      "outputs": []
    },
    {
      "cell_type": "code",
      "source": [
        "lstm_history = lstm_model.fit(X_train_lstm, y_train, epochs=15, batch_size=32, validation_data=(X_eval_lstm, y_eval))"
      ],
      "metadata": {
        "colab": {
          "base_uri": "https://localhost:8080/"
        },
        "collapsed": true,
        "id": "xru6KJDTyO-H",
        "outputId": "28e6ad10-eef2-4003-b87b-1012e6b48e6a"
      },
      "execution_count": null,
      "outputs": [
        {
          "output_type": "stream",
          "name": "stdout",
          "text": [
            "Epoch 1/15\n",
            "162/162 [==============================] - 6s 21ms/step - loss: 0.6099 - accuracy: 0.6678 - val_loss: 0.4647 - val_accuracy: 0.8025\n",
            "Epoch 2/15\n",
            "162/162 [==============================] - 3s 20ms/step - loss: 0.5005 - accuracy: 0.7585 - val_loss: 0.4572 - val_accuracy: 0.7941\n",
            "Epoch 3/15\n",
            "162/162 [==============================] - 2s 15ms/step - loss: 0.4766 - accuracy: 0.7742 - val_loss: 0.4431 - val_accuracy: 0.8025\n",
            "Epoch 4/15\n",
            "162/162 [==============================] - 2s 15ms/step - loss: 0.4634 - accuracy: 0.7884 - val_loss: 0.4764 - val_accuracy: 0.7689\n",
            "Epoch 5/15\n",
            "162/162 [==============================] - 2s 15ms/step - loss: 0.4353 - accuracy: 0.8058 - val_loss: 0.4741 - val_accuracy: 0.7983\n",
            "Epoch 6/15\n",
            "162/162 [==============================] - 3s 16ms/step - loss: 0.4152 - accuracy: 0.8122 - val_loss: 0.4511 - val_accuracy: 0.7899\n",
            "Epoch 7/15\n",
            "162/162 [==============================] - 3s 21ms/step - loss: 0.3918 - accuracy: 0.8254 - val_loss: 0.4620 - val_accuracy: 0.7899\n",
            "Epoch 8/15\n",
            "162/162 [==============================] - 2s 15ms/step - loss: 0.3707 - accuracy: 0.8308 - val_loss: 0.4890 - val_accuracy: 0.8067\n",
            "Epoch 9/15\n",
            "162/162 [==============================] - 2s 15ms/step - loss: 0.3293 - accuracy: 0.8558 - val_loss: 0.5703 - val_accuracy: 0.7269\n",
            "Epoch 10/15\n",
            "162/162 [==============================] - 2s 15ms/step - loss: 0.3143 - accuracy: 0.8659 - val_loss: 0.5072 - val_accuracy: 0.7647\n",
            "Epoch 11/15\n",
            "162/162 [==============================] - 3s 16ms/step - loss: 0.2880 - accuracy: 0.8723 - val_loss: 0.5053 - val_accuracy: 0.8067\n",
            "Epoch 12/15\n",
            "162/162 [==============================] - 4s 22ms/step - loss: 0.2835 - accuracy: 0.8787 - val_loss: 0.5410 - val_accuracy: 0.7689\n",
            "Epoch 13/15\n",
            "162/162 [==============================] - 2s 15ms/step - loss: 0.2695 - accuracy: 0.8880 - val_loss: 0.4628 - val_accuracy: 0.7941\n",
            "Epoch 14/15\n",
            "162/162 [==============================] - 2s 15ms/step - loss: 0.2513 - accuracy: 0.9017 - val_loss: 0.6073 - val_accuracy: 0.7899\n",
            "Epoch 15/15\n",
            "162/162 [==============================] - 2s 14ms/step - loss: 0.2341 - accuracy: 0.9095 - val_loss: 0.6083 - val_accuracy: 0.7437\n"
          ]
        }
      ]
    },
    {
      "cell_type": "code",
      "source": [
        "lstm_loss, lstm_accuracy = lstm_model.evaluate(X_eval_lstm, y_eval)\n",
        "print(f\"LSTM Model Evaluation - Loss: {lstm_loss*100:.2f}%, Accuracy: {lstm_accuracy*100:.2f}%\")"
      ],
      "metadata": {
        "colab": {
          "base_uri": "https://localhost:8080/"
        },
        "id": "OR8kCRqgywtv",
        "outputId": "78426b1b-19ee-4e63-904e-5ee3759e02e2"
      },
      "execution_count": null,
      "outputs": [
        {
          "output_type": "stream",
          "name": "stdout",
          "text": [
            "8/8 [==============================] - 0s 6ms/step - loss: 0.6083 - accuracy: 0.7437\n",
            "LSTM Model Evaluation - Loss: 60.83%, Accuracy: 74.37%\n"
          ]
        }
      ]
    },
    {
      "cell_type": "markdown",
      "source": [
        "<a name=\"model-evaluation\"></a>\n",
        "---\n",
        "\n",
        "## 5. Models Evaluation\n",
        "\n",
        "---\n",
        "\n",
        "- [Plot of CNN Model Accuracy](#cnn-model-accuracy)\n",
        "- [Plot of CNN Model Loss](#cnn-model-loss)\n",
        "- [Actual vs Predicted Label CNN Model Plot](#cnn-model-preiction)\n",
        "- [Report of CNN Model](#cnn-model-report)\n",
        "---\n",
        "- [Plot of LSTM Model Accuracy](#lstm-model-accuracy)\n",
        "- [Plot of LSTM Model Loss](#lstm-model-loss)\n",
        "- [Actual vs Predicted Label LSTM Plot](#lstm-model-preiction)\n",
        "- [Report of LSTM Model](#lstm-model-report)\n",
        "---"
      ],
      "metadata": {
        "id": "F308rBo-7Fjy"
      }
    },
    {
      "cell_type": "markdown",
      "source": [
        "<a name=\"cnn-model-accuracy\"></a>\n",
        "## Plot of CNN Model Accuracy:"
      ],
      "metadata": {
        "id": "Kf9WuV9U7tof"
      }
    },
    {
      "cell_type": "code",
      "source": [
        "plt.plot(cnn_history.history['accuracy'])\n",
        "plt.plot(cnn_history.history['val_accuracy'])\n",
        "plt.title('CNN Model Accuracy--->')\n",
        "plt.xlabel('Epoch-->')\n",
        "plt.ylabel('Accuracy')\n",
        "plt.legend(['Train', 'Validation'], loc='upper left')\n",
        "plt.show()"
      ],
      "metadata": {
        "colab": {
          "base_uri": "https://localhost:8080/",
          "height": 472
        },
        "id": "-maNlQ5g2lHR",
        "outputId": "d76778c4-73f3-41f1-8181-2ab7405e1815"
      },
      "execution_count": null,
      "outputs": [
        {
          "output_type": "display_data",
          "data": {
            "text/plain": [
              "<Figure size 640x480 with 1 Axes>"
            ],
            "image/png": "[encoded data removed]"
          },
          "metadata": {}
        }
      ]
    },
    {
      "cell_type": "markdown",
      "source": [
        "<a name=\"cnn-model-loss\"></a>\n",
        "## Plot of CNN Model Loss:"
      ],
      "metadata": {
        "id": "RSXIsGfm8AmM"
      }
    },
    {
      "cell_type": "code",
      "source": [
        "plt.plot(cnn_history.history['loss'])\n",
        "plt.plot(cnn_history.history['val_loss'])\n",
        "plt.title('Model Loss')\n",
        "plt.xlabel('Epoch')\n",
        "plt.ylabel('Loss')\n",
        "plt.legend(['Train', 'Validation'], loc='upper left')\n",
        "plt.show()"
      ],
      "metadata": {
        "colab": {
          "base_uri": "https://localhost:8080/",
          "height": 472
        },
        "id": "wUfzorKg74mO",
        "outputId": "0dd36bc6-6339-486d-b61a-75ac4b18569f"
      },
      "execution_count": null,
      "outputs": [
        {
          "output_type": "display_data",
          "data": {
            "text/plain": [
              "<Figure size 640x480 with 1 Axes>"
            ],
            "image/png": "[encoded data removed]"
          },
          "metadata": {}
        }
      ]
    },
    {
      "cell_type": "markdown",
      "source": [
        "<a name=\"cnn-model-preiction\"></a>\n",
        "\n",
        "## Actual vs Label CNN Model Plot"
      ],
      "metadata": {
        "id": "-pd5eNQj8Lta"
      }
    },
    {
      "cell_type": "code",
      "source": [
        "cnn_prediction=cnn_model.predict(X_eval_cnn)\n",
        "cnn_predictions=(cnn_prediction > 0.5).astype(int)"
      ],
      "metadata": {
        "colab": {
          "base_uri": "https://localhost:8080/"
        },
        "id": "FTJG81hMBkjV",
        "outputId": "5731d5cb-3665-4e63-f4fd-bdbfe09d1407"
      },
      "execution_count": null,
      "outputs": [
        {
          "output_type": "stream",
          "name": "stdout",
          "text": [
            "8/8 [==============================] - 0s 3ms/step\n"
          ]
        }
      ]
    },
    {
      "cell_type": "code",
      "source": [
        "predictions = cnn_predictions.flatten()\n",
        "plt.figure(figsize=(10, 6))\n",
        "plt.scatter(range(len(y_eval)), y_eval, color='red', label='Actual Labels')\n",
        "plt.scatter(range(len(predictions)), predictions, color='yellow', marker='x', label='Predicted Labels')\n",
        "plt.title('Actual vs Predicted Labels')\n",
        "plt.xlabel('Sample Index')\n",
        "plt.ylabel('Label (0: Fake, 1: Real)')\n",
        "plt.legend()\n",
        "plt.show()\n"
      ],
      "metadata": {
        "colab": {
          "base_uri": "https://localhost:8080/",
          "height": 564
        },
        "id": "mVQGmmJL8Gtu",
        "outputId": "0ecc46d5-b741-47b0-eeb7-2cdde0685d82"
      },
      "execution_count": null,
      "outputs": [
        {
          "output_type": "display_data",
          "data": {
            "text/plain": [
              "<Figure size 1000x600 with 1 Axes>"
            ],
            "image/png": "[encoded data removed]"
          },
          "metadata": {}
        }
      ]
    },
    {
      "cell_type": "markdown",
      "source": [
        "<a name=\"cnn-model-report\"></a>\n",
        "\n",
        "## Report Of CNN Model:"
      ],
      "metadata": {
        "id": "Sx3dEurb8Y-l"
      }
    },
    {
      "cell_type": "code",
      "source": [
        "report = classification_report(y_eval, cnn_predictions, output_dict=True)\n",
        "report_table = []\n",
        "headers = [\"Class\",\"Accuracy(%)\", \"Precision(%)\", \"Recall(%)\", \"F1-Score(%)\", \"Support\"]\n",
        "for class_label, metrics in report.items():\n",
        "    if isinstance(metrics, dict):\n",
        "        report_table.append([\n",
        "            class_label,\n",
        "            round(metrics[\"precision\"]*100, 2),\n",
        "            round(metrics[\"recall\"]*100, 2),\n",
        "            round(metrics[\"f1-score\"]*100, 2),\n",
        "            metrics[\"support\"]\n",
        "        ])\n",
        "report_table.append([\"Overall Accuracy(%)\", round(report[\"accuracy\"]*100, 2), \"\", \"\", \"\", \"\"])\n",
        "print(tabulate(report_table, headers=headers, tablefmt=\"grid\"))"
      ],
      "metadata": {
        "colab": {
          "base_uri": "https://localhost:8080/"
        },
        "id": "e6O_sALx8QYj",
        "outputId": "d59a5dc8-4d2b-4e93-850f-4ce24e330c85"
      },
      "execution_count": null,
      "outputs": [
        {
          "output_type": "stream",
          "name": "stdout",
          "text": [
            "+---------------------+---------------+----------------+-------------+---------------+-----------+\n",
            "| Class               |   Accuracy(%) | Precision(%)   | Recall(%)   | F1-Score(%)   | Support   |\n",
            "+=====================+===============+================+=============+===============+===========+\n",
            "| 0                   |         98.46 | 53.78          | 69.57       | 119           |           |\n",
            "+---------------------+---------------+----------------+-------------+---------------+-----------+\n",
            "| 1                   |         68.21 | 99.16          | 80.82       | 119           |           |\n",
            "+---------------------+---------------+----------------+-------------+---------------+-----------+\n",
            "| macro avg           |         83.33 | 76.47          | 75.19       | 238           |           |\n",
            "+---------------------+---------------+----------------+-------------+---------------+-----------+\n",
            "| weighted avg        |         83.33 | 76.47          | 75.19       | 238           |           |\n",
            "+---------------------+---------------+----------------+-------------+---------------+-----------+\n",
            "| Overall Accuracy(%) |         76.47 |                |             |               |           |\n",
            "+---------------------+---------------+----------------+-------------+---------------+-----------+\n"
          ]
        }
      ]
    },
    {
      "cell_type": "markdown",
      "source": [
        "-------------------------------\n",
        "-------------------------------\n",
        "-------------------------------"
      ],
      "metadata": {
        "id": "QqwVMWcDCkQy"
      }
    },
    {
      "cell_type": "markdown",
      "source": [
        "<a name=\"lstm-model-accuracy\"></a>\n",
        "## Plot of LSTM Model Accuracy:"
      ],
      "metadata": {
        "id": "ddw8o2ZI9EwU"
      }
    },
    {
      "cell_type": "code",
      "source": [
        "plt.plot(lstm_history.history['accuracy'])\n",
        "plt.plot(lstm_history.history['val_accuracy'])\n",
        "plt.title('LSTM Model Accuracy')\n",
        "plt.xlabel('Epoch')\n",
        "plt.ylabel('Accuracy')\n",
        "plt.legend(['Train', 'Validation'], loc='upper left')\n",
        "plt.show()"
      ],
      "metadata": {
        "colab": {
          "base_uri": "https://localhost:8080/",
          "height": 472
        },
        "id": "N_sz_WcR8ZjO",
        "outputId": "eee9fa32-6f17-41f9-bcd8-8a8cda6610be"
      },
      "execution_count": null,
      "outputs": [
        {
          "output_type": "display_data",
          "data": {
            "text/plain": [
              "<Figure size 640x480 with 1 Axes>"
            ],
            "image/png": "[encoded data removed]"
          },
          "metadata": {}
        }
      ]
    },
    {
      "cell_type": "markdown",
      "source": [
        "<a name=\"lstm-model-loss\"></a>\n",
        "## Plot of LSTM Model Loss:"
      ],
      "metadata": {
        "id": "n9lnbUgF92lH"
      }
    },
    {
      "cell_type": "code",
      "source": [
        "plt.plot(lstm_history.history['loss'])\n",
        "plt.plot(lstm_history.history['val_loss'])\n",
        "plt.title('LSTM Model Loss')\n",
        "plt.xlabel('Epoch')\n",
        "plt.ylabel('Loss')\n",
        "plt.legend(['Train', 'Validation'], loc='upper left')\n",
        "plt.show()"
      ],
      "metadata": {
        "colab": {
          "base_uri": "https://localhost:8080/",
          "height": 472
        },
        "id": "dey92Byr911e",
        "outputId": "44a5f286-63bf-4de9-a877-35a3e58826f6"
      },
      "execution_count": null,
      "outputs": [
        {
          "output_type": "display_data",
          "data": {
            "text/plain": [
              "<Figure size 640x480 with 1 Axes>"
            ],
            "image/png": "[encoded data removed]"
          },
          "metadata": {}
        }
      ]
    },
    {
      "cell_type": "markdown",
      "source": [
        "<a name=\"lstm-model-preiction\"></a>\n",
        "\n",
        "## Actual vs Label LSTM Model Plot"
      ],
      "metadata": {
        "id": "0ekgG1j69UVS"
      }
    },
    {
      "cell_type": "code",
      "source": [
        "lstm_predictions=lstm_model.predict(X_eval_lstm)\n",
        "lstm_predictions = (lstm_predictions > 0.5).astype(int)"
      ],
      "metadata": {
        "colab": {
          "base_uri": "https://localhost:8080/"
        },
        "id": "jaqNkrpnBxlB",
        "outputId": "bb725c30-bd60-48d0-c8f5-ba6fc48519b8"
      },
      "execution_count": null,
      "outputs": [
        {
          "output_type": "stream",
          "name": "stdout",
          "text": [
            "8/8 [==============================] - 1s 10ms/step\n"
          ]
        }
      ]
    },
    {
      "cell_type": "code",
      "source": [
        "predictions = lstm_predictions.flatten()\n",
        "plt.figure(figsize=(10, 5))\n",
        "plt.scatter(range(len(y_eval)), y_eval, color='red', label='Actual Labels')\n",
        "plt.scatter(range(len(predictions)), predictions, color='yellow', marker='*', label='Predicted Labels')\n",
        "plt.title('Actual vs Predicted Labels')\n",
        "plt.xlabel('Sample Index')\n",
        "plt.ylabel('Label (0: Fake, 1: Real)')\n",
        "plt.legend()\n",
        "plt.show()"
      ],
      "metadata": {
        "colab": {
          "base_uri": "https://localhost:8080/",
          "height": 487
        },
        "id": "PdyVoFC29IBv",
        "outputId": "15594b8c-379a-4680-9b2a-1005ded43836"
      },
      "execution_count": null,
      "outputs": [
        {
          "output_type": "display_data",
          "data": {
            "text/plain": [
              "<Figure size 1000x500 with 1 Axes>"
            ],
            "image/png": "[encoded data removed]"
          },
          "metadata": {}
        }
      ]
    },
    {
      "cell_type": "markdown",
      "source": [
        "<a name=\"lstm-model-report\"></a>\n",
        "\n",
        "## Report Of LSTM Model:"
      ],
      "metadata": {
        "id": "BugzhBBC99Pm"
      }
    },
    {
      "cell_type": "code",
      "source": [
        "report = classification_report(y_eval, lstm_predictions, output_dict=True)\n",
        "report_table = []\n",
        "headers = [\"Class\", \"Precision(%)\", \"Recall(%)\", \"F1-Score(%)\", \"Support\"]\n",
        "for class_label, metrics in report.items():\n",
        "    if isinstance(metrics, dict):\n",
        "        report_table.append([\n",
        "            class_label,\n",
        "            round(metrics[\"precision\"]*100, 2),\n",
        "            round(metrics[\"recall\"]*100, 2),\n",
        "            round(metrics[\"f1-score\"]*100, 2),\n",
        "            metrics[\"support\"]\n",
        "        ])\n",
        "report_table.append([\"Overall Accuracy(%)\", round(report[\"accuracy\"]*100, 2), \"\", \"\", \"\", \"\"])\n",
        "print(tabulate(report_table, headers=headers, tablefmt=\"grid\"))"
      ],
      "metadata": {
        "colab": {
          "base_uri": "https://localhost:8080/"
        },
        "id": "QhxmXkVz9Xb7",
        "outputId": "993871e8-0c98-4871-a87b-8dda86c61573"
      },
      "execution_count": null,
      "outputs": [
        {
          "output_type": "stream",
          "name": "stdout",
          "text": [
            "+---------------------+----------------+-------------+---------------+-----------+\n",
            "| Class               |   Precision(%) | Recall(%)   | F1-Score(%)   | Support   |\n",
            "+=====================+================+=============+===============+===========+\n",
            "| 0                   |          71.32 | 81.51       | 76.08         | 119       |\n",
            "+---------------------+----------------+-------------+---------------+-----------+\n",
            "| 1                   |          78.43 | 67.23       | 72.4          | 119       |\n",
            "+---------------------+----------------+-------------+---------------+-----------+\n",
            "| macro avg           |          74.88 | 74.37       | 74.24         | 238       |\n",
            "+---------------------+----------------+-------------+---------------+-----------+\n",
            "| weighted avg        |          74.88 | 74.37       | 74.24         | 238       |\n",
            "+---------------------+----------------+-------------+---------------+-----------+\n",
            "| Overall Accuracy(%) |          74.37 |             |               |           |\n",
            "+---------------------+----------------+-------------+---------------+-----------+\n"
          ]
        }
      ]
    },
    {
      "cell_type": "markdown",
      "source": [
        "Saving The LSTM Model :"
      ],
      "metadata": {
        "id": "_MIXuZmrDrqC"
      }
    },
    {
      "cell_type": "code",
      "source": [
        "lstm_model.save('Deep-Fake-Audio-Detection-Model.h5')"
      ],
      "metadata": {
        "id": "IAvauJhADtks"
      },
      "execution_count": null,
      "outputs": []
    },
    {
      "cell_type": "markdown",
      "source": [
        "Loading the Model:"
      ],
      "metadata": {
        "id": "1WlxJbKmEASe"
      }
    },
    {
      "cell_type": "code",
      "source": [
        "# Load the trained LSTM model\n",
        "from keras.models import load_model\n",
        "lstm_model = load_model('Deep-Fake-Audio-Detection-Model.h5')"
      ],
      "metadata": {
        "id": "Qgr_G1pjKRLU"
      },
      "execution_count": null,
      "outputs": []
    },
    {
      "cell_type": "code",
      "source": [
        "audio_path = '/content/BangladeshChapter_AudioShield/dagshub_storage/data/ASVspoof2019_LA_train/flac/LA_T_1138215.flac'\n",
        "#f'/content/LA_E_1001320.flac'"
      ],
      "metadata": {
        "id": "g3i13wPuOSJU"
      },
      "execution_count": null,
      "outputs": []
    },
    {
      "cell_type": "code",
      "source": [
        "def extract_features(file_path, max_pad_len=26):\n",
        "    try:\n",
        "        audio_data, sr = librosa.load(file_path, sr=None)\n",
        "    except Exception as e:\n",
        "        print(f\"Error loading audio file: {e}\")\n",
        "        return None\n",
        "    chroma_stft = np.mean(librosa.feature.chroma_stft(y=audio_data, sr=sr).T, axis=0)\n",
        "    rmse = np.mean(librosa.feature.rms(y=audio_data).T, axis=0)\n",
        "    spectral_centroid = np.mean(librosa.feature.spectral_centroid(y=audio_data, sr=sr).T, axis=0)\n",
        "    spectral_bandwidth = np.mean(librosa.feature.spectral_bandwidth(y=audio_data, sr=sr).T, axis=0)\n",
        "    rolloff = np.mean(librosa.feature.spectral_rolloff(y=audio_data, sr=sr).T, axis=0)\n",
        "    zero_crossing_rate = np.mean(librosa.feature.zero_crossing_rate(y=audio_data).T, axis=0)\n",
        "    mfccs = np.mean(librosa.feature.mfcc(y=audio_data, sr=sr, n_mfcc=20).T, axis=0)\n",
        "    features = np.hstack([chroma_stft, rmse, spectral_centroid, spectral_bandwidth, rolloff, zero_crossing_rate, mfccs])\n",
        "    pad_width = max_pad_len - features.shape[0]\n",
        "    if pad_width > 0:\n",
        "        features = np.pad(features, (0, pad_width), mode='constant')\n",
        "    else:\n",
        "        features = features[:max_pad_len]\n",
        "    return features.reshape(1, max_pad_len, 1)"
      ],
      "metadata": {
        "id": "VRdEp75cO9PF"
      },
      "execution_count": null,
      "outputs": []
    },
    {
      "cell_type": "code",
      "source": [
        "bold_start = '\\033[1m'\n",
        "bold_end = '\\033[0m'\n",
        "if os.path.exists(audio_path):\n",
        "    X_new = extract_features(audio_path)\n",
        "    if X_new is not None:\n",
        "        predictions = lstm_model.predict(X_new)\n",
        "        predicted_class = np.argmax(predictions, axis=1)\n",
        "        label_dict = {0: 'Fake', 1: 'Real'}\n",
        "        print(f\"Audio of {bold_start}{os.path.basename(audio_path)}{bold_end} Is: {bold_start}{label_dict[predicted_class[0]]}{bold_end}\")\n",
        "    else:\n",
        "        print(\"Failed to preprocess audio data.\")\n",
        "else:\n",
        "    print(f\"Audio file does not exist: {audio_path}\")"
      ],
      "metadata": {
        "colab": {
          "base_uri": "https://localhost:8080/"
        },
        "id": "3eWwhGM7Ojm4",
        "outputId": "0e5f2df2-28ef-4d31-d74a-b2fa3824edd6"
      },
      "execution_count": null,
      "outputs": [
        {
          "output_type": "stream",
          "name": "stdout",
          "text": [
            "1/1 [==============================] - 0s 39ms/step\n",
            "Audio of \u001b[1mLA_T_1138215.flac\u001b[0m Is: \u001b[1mFake\u001b[0m\n"
          ]
        }
      ]
    },
    {
      "cell_type": "markdown",
      "source": [
        "Model Depolyment:"
      ],
      "metadata": {
        "id": "_Dd2N7Xsdh52"
      }
    },
    {
      "cell_type": "code",
      "source": [
        "%%writefile app.py\n",
        "pip install streamlit tensorflow librose pydub logging\n",
        "import streamlit as st\n",
        "import tensorflow as tf\n",
        "import librosa\n",
        "import numpy as np\n",
        "from keras.models import load_model\n",
        "from pydub import AudioSegment\n",
        "import tempfile\n",
        "\n",
        "def extract_features(file_path):\n",
        "    try:\n",
        "        y, sr = librosa.load(file_path, sr=16000)\n",
        "        features = {\n",
        "            'chroma_stft': np.mean(librosa.feature.chroma_stft(y=y, sr=sr)),\n",
        "            'rmse': np.mean(librosa.feature.rms(y=y)),\n",
        "            'spectral_centroid': np.mean(librosa.feature.spectral_centroid(y=y, sr=sr)),\n",
        "            'spectral_bandwidth': np.mean(librosa.feature.spectral_bandwidth(y=y, sr=sr)),\n",
        "            'rolloff': np.mean(librosa.feature.spectral_rolloff(y=y, sr=sr)),\n",
        "            'zero_crossing_rate': np.mean(librosa.feature.zero_crossing_rate(y=y)),\n",
        "        }\n",
        "        mfcc = librosa.feature.mfcc(y=y, sr=sr)\n",
        "        for i in range(1, 21):\n",
        "            features[f'mfcc{i}'] = np.mean(mfcc[i-1])\n",
        "        return np.array(list(features.values())).reshape(1, -1)\n",
        "    except Exception as e:\n",
        "        st.error(f\"Error extracting features: {e}\")\n",
        "        return None\n",
        "\n",
        "def convert_to_flac(uploaded_file):\n",
        "    try:\n",
        "        with tempfile.NamedTemporaryFile(delete=False, suffix='.flac') as temp_flac_file:\n",
        "            if uploaded_file.type == \"audio/flac\":\n",
        "                temp_flac_file.write(uploaded_file.read())\n",
        "            else:\n",
        "                with tempfile.NamedTemporaryFile(delete=False, suffix='.wav') as temp_wav_file:\n",
        "                    temp_wav_file.write(uploaded_file.read())\n",
        "                    temp_wav_file.flush()\n",
        "                    audio = AudioSegment.from_file(temp_wav_file.name)\n",
        "                    audio.export(temp_flac_file.name, format=\"flac\")\n",
        "            return temp_flac_file.name\n",
        "    except Exception as e:\n",
        "        st.error(f\"Error converting to FLAC: {e}\")\n",
        "        return None\n",
        "\n",
        "# Load the model\n",
        "model = tf.keras.load_model('Deep-Fake-Audio-Detection-Model.h5')\n",
        "\n",
        "# Streamlit app\n",
        "st.title(\"DeepFake Audio Detection Model\")\n",
        "st.write(\"**Developer Name:** Muhammad Ahmed Javed\")\n",
        "st.write(\"\"\"\n",
        "Welcome to the DeepFake Audio Detection tool. This application leverages advanced deep learning techniques to determine whether an audio file is real or fake.\n",
        "We experimented with two different deep learning models: **Convolutional Neural Networks (CNN)** and **Long Short-Term Memory networks (LSTM)**.\n",
        "After extensive testing and evaluation, the LSTM model demonstrated superior performance in detecting deepfake audio, achieving higher accuracy and robustness.\n",
        "\"\"\")\n",
        "\n",
        "uploaded_file = st.file_uploader(\"Choose an audio file\", type=[\"wav\", \"mp3\", \"flac\"])\n",
        "\n",
        "if uploaded_file:\n",
        "    temp_flac_path = convert_to_flac(uploaded_file)\n",
        "    if temp_flac_path:\n",
        "        features = extract_features(temp_flac_path)\n",
        "        if features is not None:\n",
        "            prediction = model.predict(features)\n",
        "            if prediction > 0.7:\n",
        "                st.markdown(f\"<u><b>{uploaded_file.name}</b> is: <b>Real</b></u>\", unsafe_allow_html=True)\n",
        "            else:\n",
        "                st.markdown(f\"<u><b>{uploaded_file.name}</b> is: <b>Fake</b></u>\", unsafe_allow_html=True)\n",
        "# LSTM Model Evaluations\n",
        "st.sidebar.title(\"LSTM Model Evaluations\")\n",
        "evaluation_option = st.sidebar.selectbox(\n",
        "    \"Choose an evaluation metric\",\n",
        "    (\"Select an option\", \"LSTM Model Report\", \"Actual vs Predicted Label Chart\", \"LSTM Model Loss\", \"LSTM Model Accuracy\")\n",
        ")\n",
        "\n",
        "if evaluation_option == \"LSTM Model Report\":\n",
        "    st.write(\"LSTM Model Report\")\n",
        "    st.image(\"lstm-model-report.png\", caption=\"LSTM Model Report\", use_column_width=True)\n",
        "elif evaluation_option == \"Actual vs Predicted Label Chart\":\n",
        "    st.image(\"actual-vs-predicted-label.png\", caption=\"Actual vs Predicted Label Chart\", use_column_width=True)\n",
        "elif evaluation_option == \"LSTM Model Loss\":\n",
        "    st.image(\"lstm-model-loss.png\", caption=\"LSTM Model Loss\", use_column_width=True)\n",
        "elif evaluation_option == \"LSTM Model Accuracy\":\n",
        "    st.image(\"lstm-model-accuracy.png\", caption=\"LSTM Model Accuracy\", use_column_width=True)"
      ],
      "metadata": {
        "id": "zx0doMuudjD5",
        "colab": {
          "base_uri": "https://localhost:8080/"
        },
        "outputId": "f1fd0dc8-2943-44f1-8ee4-0d50b57d53f1"
      },
      "execution_count": null,
      "outputs": [
        {
          "output_type": "stream",
          "name": "stdout",
          "text": [
            "Overwriting app.py\n"
          ]
        }
      ]
    },
    {
      "cell_type": "code",
      "source": [
        "!streamlit run app.py"
      ],
      "metadata": {
        "collapsed": true,
        "colab": {
          "base_uri": "https://localhost:8080/"
        },
        "id": "Ynb4ZTTX8662",
        "outputId": "844f2673-1903-4610-c4f1-30dd6010bed8"
      },
      "execution_count": null,
      "outputs": [
        {
          "output_type": "stream",
          "name": "stdout",
          "text": [
            "\n",
            "Collecting usage statistics. To deactivate, set browser.gatherUsageStats to false.\n",
            "\u001b[0m\n",
            "\u001b[0m\n",
            "\u001b[34m\u001b[1m  You can now view your Streamlit app in your browser.\u001b[0m\n",
            "\u001b[0m\n",
            "\u001b[34m  Local URL: \u001b[0m\u001b[1mhttp://localhost:8501\u001b[0m\n",
            "\u001b[34m  Network URL: \u001b[0m\u001b[1mhttp://172.28.0.12:8501\u001b[0m\n",
            "\u001b[34m  External URL: \u001b[0m\u001b[1mhttp://34.19.37.13:8501\u001b[0m\n",
            "\u001b[0m\n",
            "\u001b[34m  Stopping...\u001b[0m\n",
            "\u001b[34m  Stopping...\u001b[0m\n"
          ]
        }
      ]
    },
    {
      "cell_type": "code",
      "source": [
        "import tensorflow as tf\n",
        "from tensorflow.keras.models import load_model\n",
        "import librosa\n",
        "import numpy as np\n",
        "\n",
        "# Function to extract features from audio file\n",
        "def extract_features(file_path, max_pad_len=26):\n",
        "    try:\n",
        "        audio_data, sr = librosa.load(file_path, sr=None)\n",
        "    except Exception as e:\n",
        "        print(f\"Error loading audio file: {e}\")\n",
        "        return None\n",
        "    chroma_stft = np.mean(librosa.feature.chroma_stft(y=audio_data, sr=sr).T, axis=0)\n",
        "    rmse = np.mean(librosa.feature.rms(y=audio_data).T, axis=0)\n",
        "    spectral_centroid = np.mean(librosa.feature.spectral_centroid(y=audio_data, sr=sr).T, axis=0)\n",
        "    spectral_bandwidth = np.mean(librosa.feature.spectral_bandwidth(y=audio_data, sr=sr).T, axis=0)\n",
        "    rolloff = np.mean(librosa.feature.spectral_rolloff(y=audio_data, sr=sr).T, axis=0)\n",
        "    zero_crossing_rate = np.mean(librosa.feature.zero_crossing_rate(y=audio_data).T, axis=0)\n",
        "    mfccs = np.mean(librosa.feature.mfcc(y=audio_data, sr=sr, n_mfcc=20).T, axis=0)\n",
        "    features = np.hstack([chroma_stft, rmse, spectral_centroid, spectral_bandwidth, rolloff, zero_crossing_rate, mfccs])\n",
        "    pad_width = max_pad_len - features.shape[0]\n",
        "    if pad_width > 0:\n",
        "        features = np.pad(features, (0, pad_width), mode='constant')\n",
        "    else:\n",
        "        features = features[:max_pad_len]\n",
        "    return features.reshape(1, max_pad_len, 1)\n",
        "\n",
        "# Load the Keras model\n",
        "model = load_model(\"Deep-Fake-Audio-Detection-Model.h5\")\n",
        "\n",
        "# Audio file path\n",
        "audio_path = \"LA_E_1001320.flac\"\n",
        "\n",
        "# Extract features from audio file\n",
        "X_new = extract_features(audio_path)\n",
        "\n",
        "# Predict with the model\n",
        "predictions = model.predict(X_new)\n",
        "predicted_class = np.argmax(predictions, axis=-1)\n",
        "\n",
        "# Dictionary to map class index to labels\n",
        "label_dict = {0: 'Fake', 1: 'Real'}\n",
        "\n",
        "# Print the prediction result\n",
        "print(f\"Audio {audio_path} is: {label_dict[predicted_class[0]]}\")\n"
      ],
      "metadata": {
        "colab": {
          "base_uri": "https://localhost:8080/"
        },
        "id": "dber9wpHgN9t",
        "outputId": "9e1ef3eb-7ca0-4faa-f3e9-f95586493c9d"
      },
      "execution_count": null,
      "outputs": [
        {
          "output_type": "stream",
          "name": "stdout",
          "text": [
            "1/1 [==============================] - 1s 826ms/step\n",
            "Audio LA_E_1001320.flac is: Fake\n"
          ]
        }
      ]
    },
    {
      "cell_type": "code",
      "source": [
        "import tensorflow as tf\n",
        "print(tf.__version__)\n"
      ],
      "metadata": {
        "colab": {
          "base_uri": "https://localhost:8080/"
        },
        "id": "K0gqjgrrgPDR",
        "outputId": "84947835-f0d0-49fc-d2ca-7acadbfcfa41"
      },
      "execution_count": null,
      "outputs": [
        {
          "output_type": "stream",
          "name": "stdout",
          "text": [
            "2.15.0\n"
          ]
        }
      ]
    },
    {
      "source": [
        "import tensorflow as tf\n",
        "print(tf.__version__)  # Print TensorFlow version, which includes Keras version"
      ],
      "cell_type": "code",
      "metadata": {
        "colab": {
          "base_uri": "https://localhost:8080/"
        },
        "id": "kZkjog4HhASl",
        "outputId": "88c26555-9a54-46fb-d838-7fa2025a7d3d"
      },
      "execution_count": null,
      "outputs": [
        {
          "output_type": "stream",
          "name": "stdout",
          "text": [
            "2.15.0\n"
          ]
        }
      ]
    },
    {
      "cell_type": "code",
      "source": [],
      "metadata": {
        "id": "dcb4LEAZgrjB"
      },
      "execution_count": null,
      "outputs": []
    }
  ]
}